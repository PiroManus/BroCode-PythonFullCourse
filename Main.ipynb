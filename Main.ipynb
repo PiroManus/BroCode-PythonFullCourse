{
  "cells": [
    {
      "cell_type": "markdown",
      "metadata": {},
      "source": [
        "#Lesson 1: Introduction\n"
      ]
    },
    {
      "cell_type": "code",
      "execution_count": null,
      "metadata": {},
      "outputs": [],
      "source": [
        "# https://www.youtube.com/watch?v=XKHEtdqhLK8\nprint('I love learning Python')\nprint(\"It's really fun\")\n"
      ]
    },
    {
      "cell_type": "markdown",
      "metadata": {},
      "source": [
        "#Lesson 2: Variables\n"
      ]
    },
    {
      "cell_type": "code",
      "execution_count": null,
      "metadata": {},
      "outputs": [],
      "source": [
        "# https://www.youtube.com/watch?v=XKHEtdqhLK8\n#variable = a container for a value.\n# Behaves as the value that it contains\nname = \"Bro\"\nprint(type(name))\nprint(\"Hello \" + name)\nfirst_name=\"Bro\"\nlast_name=\"Code\"\nfull_name=first_name + last_name\nprint(\"Hello \"+ full_name)\n\n#when assign value of int type not with quotes\n# because cant use strings with math\nage = 21\nage +=1\n#Better way to write above is age +=1\nprint(age)\nprint(type(age))\nprint('Your age is: '+str(age))\n\n#Float\nheight=250.5\nprint(height)\nprint(type(height))\n\n#Boolean. Can only store True or False\nhuman = False\nprint(human)\nprint(type(human))\n"
      ]
    },
    {
      "cell_type": "markdown",
      "metadata": {},
      "source": [
        "#Lesson 3: Multiple Assignment\n"
      ]
    },
    {
      "cell_type": "code",
      "execution_count": null,
      "metadata": {},
      "outputs": [],
      "source": [
        "# https://www.youtube.com/watch?v=XKHEtdqhLK8\n#Multiple assignment = allows us to assign multiple variables\n# at the same time in one line of code.\n\nname ='Bro'\nage = 32\nattractive = True\nprint(name, age, attractive)\n\n#multiple assignment show it is easier to assign.\nname, age, attractive= \"Bro\", 32, True\nprint(name, age, attractive)\n\n#also multiple assignment\nBill = Tina = Steve = 30\nprint(Bill)\n"
      ]
    },
    {
      "cell_type": "markdown",
      "metadata": {},
      "source": [
        "#Lesson 4: String Methods\n"
      ]
    },
    {
      "cell_type": "code",
      "execution_count": null,
      "metadata": {},
      "outputs": [],
      "source": [
        "# https://www.youtube.com/watch?v=XKHEtdqhLK8\n# create a new .py file is Ctrl + Alt + Insert\nname = \"Bro\"\n#print(len(name))\n\n#this looks for index position of B\nprint(name.find(\"B\"))\n\nprint(name.capitalize())\nprint(name.upper())\nprint(name.lower())\nprint(name.isdigit())\n#isalpha to check if only alphetical letters\nprint(name.isalpha())\nprint(name.count(\"o\"))\nprint(name.replace(\"o\", 'a'))\nprint(name*3)\n"
      ]
    },
    {
      "cell_type": "markdown",
      "metadata": {},
      "source": [
        "#Lesson 5: Type Cast\n"
      ]
    },
    {
      "cell_type": "code",
      "execution_count": null,
      "metadata": {},
      "outputs": [],
      "source": [
        "# https://www.youtube.com/watch?v=XKHEtdqhLK8\n# type casting = convert the data type of a value\n# to another data type.\n\nx = 1     #int\ny = 2.0   #float\nz = '3'   #str\n\nx = str(x)\ny = str(y)\nz = str(z)\n\nprint(x)\nprint(y)\nprint(z*3)\n\nx = float(x)\ny = float(y)\nz = float(z)\n\nprint(x)\nprint(y)\nprint(z*3)\n"
      ]
    },
    {
      "cell_type": "markdown",
      "metadata": {},
      "source": [
        "#Lesson 6: User Input\n"
      ]
    },
    {
      "cell_type": "code",
      "execution_count": null,
      "metadata": {},
      "outputs": [],
      "source": [
        "# https://www.youtube.com/watch?v=XKHEtdqhLK8\n\nname = input(\"What is your name?: \")\nage = int(input(\"How old are you?: \"))\nheight = float(input(\"How tall are you?: \"))\n\nprint(\"Hello \"+name)\nprint(\"You are \"+str(age)+ \" years old\")\nprint(\"You are \"+str(height)+ \" feet tall\")\n"
      ]
    },
    {
      "cell_type": "markdown",
      "metadata": {},
      "source": [
        "#Lesson 7: Math Functions\n"
      ]
    },
    {
      "cell_type": "code",
      "execution_count": null,
      "metadata": {},
      "outputs": [],
      "source": [
        "# https://www.youtube.com/watch?v=XKHEtdqhLK8\n\nimport math\npi = 3.14\nx = 1\ny = 2\nz = 3\n\nprint(round(pi))\nprint(math.ceil(pi))\nprint(math.floor(pi))\nprint(abs(pi))\nprint(pow(pi, 2)) #raises it to power of 2\nprint(math.sqrt(pi)) #square root\nprint(max(pi,x,y,z)) #finds max value\nprint(min(pi,x,y,z)) #finds min value\n"
      ]
    },
    {
      "cell_type": "markdown",
      "metadata": {},
      "source": [
        "#Lesson 8: String Slicing\n"
      ]
    },
    {
      "cell_type": "code",
      "execution_count": null,
      "metadata": {},
      "outputs": [],
      "source": [
        "# https://www.youtube.com/watch?v=XKHEtdqhLK8\n# slicing = create a substring by extracing elements from\n# another string. indexing[] or slice()\n# [start:stop:step]\n# start index in inclusive. stop index is exclusive.\n# step is how much increasing index. default is 1.\n\nname = \"Bro Code\"\nfirst_name = name[:3]\nlast_name = name[4:]\nfunky_name = name[::3]\nreversed_name = name[::-1]\nprint(first_name)\nprint(last_name)\nprint(funky_name)\n\nwebsite1 = 'http://test.com'\nwebsite2 = 'http://google.com'\nslice = slice(7,-4)\nprint(website1[slice])\nprint(website2[slice])\n"
      ]
    },
    {
      "cell_type": "markdown",
      "metadata": {},
      "source": [
        "#Lesson 9: If Statements\n"
      ]
    },
    {
      "cell_type": "code",
      "execution_count": null,
      "metadata": {},
      "outputs": [],
      "source": [
        "#a block of code that will execute if it's condition is true\n# https://www.youtube.com/watch?v=XKHEtdqhLK8\n\nage = int(input(\"How old are you?:\"))\n\nif age == 100:\n    print(\"You are a century old!\")\nelif age >= 18:\n    print(\"You are an adult!\")\nelif age <0:\n    print(\"You have not been born yet!\")\nelse:\n    print(\"You are a child!\")\n"
      ]
    },
    {
      "cell_type": "markdown",
      "metadata": {},
      "source": [
        "#Lesson 10: Logical Operators (and, or, not)\n"
      ]
    },
    {
      "cell_type": "code",
      "execution_count": null,
      "metadata": {},
      "outputs": [],
      "source": [
        "#used to check if two or more conditional statements\n# https://www.youtube.com/watch?v=XKHEtdqhLK8\n#I cannot get this to work.\n#I want to have it be that the user picks where they live to give answer based on cel vs far\n\nlocation = input(\"Do you live in the USA? (Yes or No):\")\ntemp = int(input(\"What is the temperature outside?:\"))\n\nif location == \"Yes\" or \"yes\" or \"yea\" or \"Yea\":\n    location1 = location\nelse: location2 = location\n\n\nif location1 == location:\n    if temp >= 35 and temp <= 90:\n        print(\"The temperature is good today!\")\n        print(\"Go outside!\")\n    elif temp < 35 or temp > 90:\n        print(\"The temperature is bad today!\")\n        print(\"Stay inside!\")\n\nelif location2 == location:\n    if temp >= 0 and temp <= 30:\n        print(\"The temperature is good today!\")\n        print(\"Go outside!\")\n    elif temp < 0 or temp > 30:\n        print(\"The temperature is bad today!\")\n        print(\"Stay inside!\")\n\n\n# not operator: flips it from true to false or reverse\n    if not(temp >= 0 and temp <= 30):\n        print(\"The temperature is bad today!\")\n        print(\"Stay inside!\")\n    elif not(temp < 0 or temp > 30):\n        print(\"The temperature is good today!\")\n        print(\"Go outside!\")\n"
      ]
    },
    {
      "cell_type": "markdown",
      "metadata": {},
      "source": [
        "#Lesson 11: While loops = a statement that will execute\n"
      ]
    },
    {
      "cell_type": "code",
      "execution_count": null,
      "metadata": {},
      "outputs": [],
      "source": [
        "#its block of code, as long as its condition remains true.\n# https://www.youtube.com/watch?v=XKHEtdqhLK8\n\n#will try to create a loop for user to enter name.\n# need an escape to the while loop\n\n#To start a code execution below, Ctrl + F5\n#To stop a code execution below, Ctrl + F2\n\nname = \"\"\nwhile len(name) == 0:\n    name = input(\"Enter your name: \")\nprint(\"Hello \"+name)\n\n#another way to write this:\nname = None\nwhile not name:\n    name = input(\"Enter your name: \")\nprint(\"Hello \"+name)\n"
      ]
    },
    {
      "cell_type": "markdown",
      "metadata": {},
      "source": [
        "#Lesson 12: For Loops\n"
      ]
    },
    {
      "cell_type": "code",
      "execution_count": null,
      "metadata": {},
      "outputs": [],
      "source": [
        "# a statement that will execute its block of code a limited\n# amount of times.\n# https://www.youtube.com/watch?v=XKHEtdqhLK8\nimport time\n\n#i means index.\n# The +1 will make the count 1 to 10 because starts at 0.\n# Can also add the +1 to the range\n#for i in range(10):\n    #print(i+1)\n\n#this program counts by 2\n#for i in range(50,100+1,2):\n    #print(i)\n\n#for i in \"Bro Code\":\n    #print(i)\n\n#import time module at top of code.\n# i can be anything. below it is seconds.\n# the -1 it the step amount. so here it is counting down.\nfor seconds in range(10,0,-1):\n    print(seconds)\n    time.sleep(1)\nprint(\"Happy New Year!\")\n"
      ]
    },
    {
      "cell_type": "markdown",
      "metadata": {},
      "source": [
        "#Lesson 13: Nested Loops\n"
      ]
    },
    {
      "cell_type": "code",
      "execution_count": null,
      "metadata": {},
      "outputs": [],
      "source": [
        "# the \"inner loop\" will finish all its interations before\n# finishing on iteration of the \"outer loop\"\n# https://www.youtube.com/watch?v=XKHEtdqhLK8\n\n#going to draw a rectange with nested loops.\n#Outer loop will be in charge of rows. Inner incharge of columns.\nrows = int(input(\"How many rows?: \"))\ncolumns = int(input(\"How many columns?: \"))\nsymbol = input(\"Enter a symbol to use: \")\n#common convetion for innter for loops is j.\n#end=\"\" prevents cursor from moving to next line.\nfor i in range(rows):\n    for j in range(columns):\n        print(symbol, end=\"\")\n    print()\n"
      ]
    },
    {
      "cell_type": "markdown",
      "metadata": {},
      "source": [
        "#Lesson 14: Loop Control Statements\n"
      ]
    },
    {
      "cell_type": "code",
      "execution_count": null,
      "metadata": {},
      "outputs": [],
      "source": [
        "# Change a loop execution from its normal sequence\n# https://www.youtube.com/watch?v=XKHEtdqhLK8\n# break = used to terminate the loop entirely\n# continue = skips to the next ieration of the loop\n# pass = dows nothing, acts as a placeholder\n\n#while True:\n    #name = input(\"Enter your name: \")\n    #if name !=\"\":\n        #break\n\nphone_number = \"123-456-7890\"\nfor i in phone_number:\n    if i == \"-\":\n        continue\n    print(i, end=\"\")\n\nfor i in range(1,21):\n    if i == 13:\n        pass\n    else: print(i)\n"
      ]
    },
    {
      "cell_type": "markdown",
      "metadata": {},
      "source": [
        "#Lesson 15: Lists\n"
      ]
    },
    {
      "cell_type": "code",
      "execution_count": null,
      "metadata": {},
      "outputs": [],
      "source": [
        "# used to store multiple items in a single variable.\n# element is a part of the list.\n# https://www.youtube.com/watch?v=XKHEtdqhLK8\n\nfood = [\"pizza\", \"hamburger\", \"hotdog\"]\nfood.append(\"ice cream\")\nfood.remove(\"hotdog\")\nfood.pop() #removes last element in list\nfood.insert(0,\"cake\")\nfood.sort()\nfood.clear()\n\n#print(food[0])\nfor x in food:\n    print(x)\n"
      ]
    },
    {
      "cell_type": "markdown",
      "metadata": {},
      "source": [
        "#Lesson 16: 2D Lists\n"
      ]
    },
    {
      "cell_type": "code",
      "execution_count": null,
      "metadata": {},
      "outputs": [],
      "source": [
        "# a lists of lists\n# https://www.youtube.com/watch?v=XKHEtdqhLK8\n\ndrinks = [\"coffee\", \"soda\", \"tea\"]\ndinner = [\"pizza\", \"hamburger\", \"hotdog\"]\ndesert = [\"cake\", \"ice cream\"]\n\nfood = [drinks, dinner, desert]\nprint(food[0][1])\nprint(food[1][1])\n"
      ]
    },
    {
      "cell_type": "markdown",
      "metadata": {},
      "source": [
        "#Lesson 17: Tuple\n"
      ]
    },
    {
      "cell_type": "code",
      "execution_count": null,
      "metadata": {},
      "outputs": [],
      "source": [
        "# a collection which is ordered and unchangeable. used to group together realted data\n# https://www.youtube.com/watch?v=XKHEtdqhLK8\n\nstudent = (\"Bro\", 21, \"male\")\nprint(student.count(\"Bro\"))\nprint(student.index(\"male\"))\n\nfor x in student:\n    print(x)\n\nif \"Bro\" in student:\n    print(\"Bro is here!\")\n"
      ]
    },
    {
      "cell_type": "markdown",
      "metadata": {},
      "source": [
        "#Lesson 18: Sets\n"
      ]
    },
    {
      "cell_type": "code",
      "execution_count": null,
      "metadata": {},
      "outputs": [],
      "source": [
        "# collection which is undordered, unindexed. no duplicate values.\n# https://www.youtube.com/watch?v=XKHEtdqhLK8\n\nutensils = {\"fork\", \"spoon\", \"knife\"}\ndishes = {\"bowl\", \"plate\", \"cup\", \"knife\"}\n\nutensils.add(\"napkin\")\nutensils.remove(\"fork\")\nutensils.clear()\ndishes.update(utensils)\ndinner_table = utensils.union(dishes)\n\nprint(dishes.difference(utensils))\nprint(utensils.intersection(dishes))\n\nfor x in dinner_table:\n    print(x)\n"
      ]
    },
    {
      "cell_type": "markdown",
      "metadata": {},
      "source": [
        "#Lesson 19: Dictionaries\n"
      ]
    },
    {
      "cell_type": "code",
      "execution_count": null,
      "metadata": {},
      "outputs": [],
      "source": [
        "# A changeable, unordered collection of unique key:value pairs.\n# Fast because they use hashing, allow us to access a value quickly.\n# https://www.youtube.com/watch?v=XKHEtdqhLK8\n\ncapitals = {'USA':'Washington DC',\n            'India':'New Dehli',\n            'China': 'Beijing',\n            'Russia': 'Moscow'}\nprint(capitals['Russia']) #this causes issues if not in dictionary. Get method better.\nprint(capitals.get('Germany')) # this will return None if not there.\nprint(capitals.keys()) # will print only the keys\nprint(capitals.values()) # will print only the values\nprint(capitals.items()) # will print all items\n\nfor key, value in capitals.items(): # this will also print whole dictionary.\n    print(key, value)\n\ncapitals.update({'Germany': 'Berlin'}) # way to add to dictionary.\ncapitals.update({'USA': 'Las Vegas'}) # way to update or add to dictionary.\ncapitals.pop('China') # removes key, value from dictionary.\ncapitals.clear()\n"
      ]
    },
    {
      "cell_type": "markdown",
      "metadata": {},
      "source": [
        "#Lesson 20: Index operator []\n"
      ]
    },
    {
      "cell_type": "code",
      "execution_count": null,
      "metadata": {},
      "outputs": [],
      "source": [
        "# gives access to a sequence's element (str, list, tuples)\n# https://www.youtube.com/watch?v=XKHEtdqhLK8\n\nname = \"bro Code!\"\nif(name[0].islower()):\n    name = name.capitalize()\nprint(name)\n\nfirst_name = name[:3].upper()\nlast_name = name[4:].lower()\nlast_character = name[-1]\n\nprint(first_name)\nprint(last_name)\nprint(last_character)\n"
      ]
    },
    {
      "cell_type": "markdown",
      "metadata": {},
      "source": [
        "#Lesson 21: Function\n"
      ]
    },
    {
      "cell_type": "code",
      "execution_count": null,
      "metadata": {},
      "outputs": [],
      "source": [
        "# a block of code which is executed only when it is called.\n# https://www.youtube.com/watch?v=XKHEtdqhLK8\n\n# what is given (Bro) is argument (information sending to function).\n# These match to parameters (first_name).\ndef hello(first_name, last_name, age):\n    print(\"Hello \"+first_name+\" \"+last_name)\n    print(\"You are \"+ str(age) + \" years old\") # need to convert int to str.\n    print(\"Have a nice day!\")\n\nhello(\"Bro\", \"Code\", 33)\n"
      ]
    },
    {
      "cell_type": "markdown",
      "metadata": {},
      "source": [
        "#Lesson 22: Return statements\n"
      ]
    },
    {
      "cell_type": "code",
      "execution_count": null,
      "metadata": {},
      "outputs": [],
      "source": [
        "# functions send Python values/objects back to the caller.\n# these values/objects are known as the function's return value\n# https://www.youtube.com/watch?v=XKHEtdqhLK8\n\ndef multiply(number1, number2):\n    return number1 * number2\n\nx = multiply(6,8)\nprint(x)\n"
      ]
    },
    {
      "cell_type": "markdown",
      "metadata": {},
      "source": [
        "#Lesson 23: Keyword Arguments\n"
      ]
    },
    {
      "cell_type": "code",
      "execution_count": null,
      "metadata": {},
      "outputs": [],
      "source": [
        "# Arguments preceded by an identifier when we pass them to a function\n# The order of the arguments does not matte,r unlike positional arguments\n# Python knows the names of the arguments that our function receives\n# https://www.youtube.com/watch?v=XKHEtdqhLK8\n\ndef hello(first,middle,last):\n    print(\"Hello \"+first+\" \"+middle+\" \"+last)\n\nhello(\"Code\", \"Dude\", \"Bro\") #these are positional arguments.\nhello(last=\"Code\", middle=\"Dude\", first=\"Bro\") #these are keyword arguments.\n"
      ]
    },
    {
      "cell_type": "markdown",
      "metadata": {},
      "source": [
        "#Lesson 24: Nested Function Calls\n"
      ]
    },
    {
      "cell_type": "code",
      "execution_count": null,
      "metadata": {},
      "outputs": [],
      "source": [
        "# function calls inside other function calls\n# innermost function calls are resolved first\n# return value is used as arugment for the next outer function.\n# https://www.youtube.com/watch?v=XKHEtdqhLK8\n\nnum = input(\"Enter a whole positive number: \")\nprint(num)\nnum = float(num)\nprint(num)\nnum = abs(num)\nprint(num)\nnum = round(num)\nprint(num)\n# this is a nested function call below. it combines all above functions.\nprint(round(abs(float(input(\"Enter a whole positive number: \")))))\n"
      ]
    },
    {
      "cell_type": "markdown",
      "metadata": {},
      "source": [
        "#Lesson 25: Variable Scope\n"
      ]
    },
    {
      "cell_type": "code",
      "execution_count": null,
      "metadata": {},
      "outputs": [],
      "source": [
        "# The region that a variable is recognized\n# A variable is only available from inside the region it is created.\n# A global and locally scoped version of a variable can be created.\n# https://www.youtube.com/watch?v=XKHEtdqhLK8\n\nname = \"Bro\" # global scope because global variable (available inside & outside functions)\n\ndef display_name():\n    name = \"Code\" # local scope because local variable (available only inside this function)\n    print(name)\n# Will first use local variable first then Global full rule below for Python\n# LEGB Rule. Local. Then Enclosing. Then Global. Then Built-in.\ndisplay_name()\nprint(name)\n"
      ]
    },
    {
      "cell_type": "markdown",
      "metadata": {},
      "source": [
        "#Lesson 26: *args\n"
      ]
    },
    {
      "cell_type": "code",
      "execution_count": null,
      "metadata": {},
      "outputs": [],
      "source": [
        "# parameter that will pack all arguments into a tuple (ordered, unchangable).\n# useful so that a function can accept a varying amount of arguments.\n# https://www.youtube.com/watch?v=XKHEtdqhLK8\n\ndef add(*stuff):\n    sum = 0\n    #stuff = list(stuff) # if want to change an item in tuple, turn into list.\n    #stuff[0] = 0    # this turns the 1st item to 0.\n    for i in stuff:\n        sum += i\n    return sum\nprint(add(1,2,3,4,5,6,7,8))\n"
      ]
    },
    {
      "cell_type": "markdown",
      "metadata": {},
      "source": [
        "#Lesson 27: **kwargs\n"
      ]
    },
    {
      "cell_type": "code",
      "execution_count": null,
      "metadata": {},
      "outputs": [],
      "source": [
        "# parameter that will pack all arguments into a dictionary\n# useful so that a function can accept a varying amount of keyword arguments\n# https://www.youtube.com/watch?v=XKHEtdqhLK8\n\ndef hello(**kwargs):  #just need the two **. Dont need to name it kwargs.\n    print(\"Hello \"+ kwargs['first']+\" \"+kwargs['last'])\n    print(\"Hello\",end=\" \")\n    for key, value in kwargs.items():\n        print(value, end= \" \")  #end=\" \" replaces the new line character (default) with space.\n\nhello(title=\"Mr.\", first=\"Bro\", middle=\"Dude\", last=\"Code\")\n"
      ]
    },
    {
      "cell_type": "markdown",
      "metadata": {},
      "source": [
        "#Lesson 28: String Format\n"
      ]
    },
    {
      "cell_type": "code",
      "execution_count": null,
      "metadata": {},
      "outputs": [],
      "source": [
        "# str.format() = optional method that gives users more control when displaying outputs\n# https://www.youtube.com/watch?v=XKHEtdqhLK8\n\nanimal = \"cow\"\nitem = \"moon\"\n#print(\"The \"+animal+\" jumped over the \"+item)  better way to write this is below.\nprint(\"The {} jumped over the {}\".format(animal, item))\nprint(\"The {0} jumped over the {1}\".format(animal, item))  #positional argument\nprint(\"The {food} jumped over the {house}\".format(house=\"tall\", food=\"pizza\"))  #keyword argument\n\n#another way to format:\ntext = \"The {} jumped over the {}\"\nprint(text.format(animal, item))\n\nname = \"Bro\"\nprint(\"Hello, my name is {}\".format(name)) #can add some padding.\nprint(\"Hello, my name is {:10}\".format(name))  #adding ten spacing worth of padding after name.\nprint(\"Hello, my name is {:^10}\".format(name)) #added center align. Can do right > or left <\n\nnumber = 1000\nprint(\"The number pi is {:.3f}\".format(number))  #adds 3 deciminal places.\nprint(\"The number is {:,}\".format(number)) #adds commas\nprint(\"The number is {:b}\".format(number)) #displays it in binary\nprint(\"The number is {:o}\".format(number)) #displays it in octodecimal\nprint(\"The number is {:X}\".format(number)) #displays it in hexidicimal.\nprint(\"The number is {:E}\".format(number))\n"
      ]
    },
    {
      "cell_type": "markdown",
      "metadata": {},
      "source": [
        "#Lesson 29: Random Numbers\n"
      ]
    },
    {
      "cell_type": "code",
      "execution_count": null,
      "metadata": {},
      "outputs": [],
      "source": [
        "# creating psuedo random numbers.\n# https://www.youtube.com/watch?v=XKHEtdqhLK8\n\nimport random\nx = random.randint(1,6) #random integir  between 1 and 6.\ny = random.random()     #random floating point number.\n\nmy_list = ['rock', 'paper', 'scissors']\nz = random.choice(my_list)\n\ncards = [1,2,3,4,5,6,7,8,9,'J','Q','K','A']\nrandom.shuffle(cards)\nprint(cards)\n"
      ]
    },
    {
      "cell_type": "markdown",
      "metadata": {},
      "source": [
        "#Lesson 30: Exception Handling\n"
      ]
    },
    {
      "cell_type": "code",
      "execution_count": null,
      "metadata": {},
      "outputs": [],
      "source": [
        "# Exceptions are events detected during execution that interrupt the flow of a program.\n# https://www.youtube.com/watch?v=XKHEtdqhLK8\n\ntry:\n    numerator = int(input(\"Enter a number to divide: \"))\n    denominator = int(input(\"Enter a number to divide by: \"))\n    results = numerator / denominator\nexcept ZeroDivisionError as e:\n    print(e)\n    print(\"You cannot divide by zero! Idiot!\")\nexcept ValueError as e:\n    print(e)\n    print(\"Enter only numbers please.\")\nexcept Exception as e:  #good pratice to put specific exceptions first.\n    print(e)\n    print(\"Something went wrong: \")\nelse:\n    print(results)\nfinally:  #should be at end as want to close files when done\n    print(\"This will always execute\")\n"
      ]
    },
    {
      "cell_type": "markdown",
      "metadata": {},
      "source": [
        "#Lesson 31: File Detection\n"
      ]
    },
    {
      "cell_type": "code",
      "execution_count": null,
      "metadata": {},
      "outputs": [],
      "source": [
        "# https://www.youtube.com/watch?v=XKHEtdqhLK8\n\nimport os\npath = \"C:\\\\Users\\\\WilliamBillCorkery\\\\OneDrive - Iberia Advisory\\\\Desktop\\\\folder\"\n# need to manually put in double back slashes\nif os.path.exists(path):\n    print(\"That location exists!\")\n    if os.path.isfile(path):\n        print(\"That is a file\")\n    elif os.path.isdir(path):\n        print(\"That is a directory\")\nelse:\n    print(\"That location does not exist\")\n"
      ]
    },
    {
      "cell_type": "markdown",
      "metadata": {},
      "source": [
        "#Lesson 32: Read a File\n"
      ]
    },
    {
      "cell_type": "code",
      "execution_count": null,
      "metadata": {},
      "outputs": [],
      "source": [
        "# this will read a file. need to created a plain text file called test.txt in project folder\n# https://www.youtube.com/watch?v=XKHEtdqhLK8\n\ntry:\n    with open('test.txt') as file:  #will need file path and double-slashes if not here.\n        print(file.read())  #'with' will also close file after reading them.\nexcept FileNotFoundError:\n    print(\"That file was not found\")\n"
      ]
    },
    {
      "cell_type": "markdown",
      "metadata": {},
      "source": [
        "#Lesson 33: Write a File\n"
      ]
    },
    {
      "cell_type": "code",
      "execution_count": null,
      "metadata": {},
      "outputs": [],
      "source": [
        "#\n# https://www.youtube.com/watch?v=XKHEtdqhLK8\n\ntext = \"Hello \\nThis is some text \\nHave a good date!\\n\"# \\n is a new line.\nwith open('test.txt', 'w') as file: #by default the mode is r. but here it is set to w for write.\n    #mode 'a' will append the new lines to the file.\n    file.write(text)\n"
      ]
    },
    {
      "cell_type": "markdown",
      "metadata": {},
      "source": [
        "#Lesson 34: Copy a File\n"
      ]
    },
    {
      "cell_type": "code",
      "execution_count": null,
      "metadata": {},
      "outputs": [],
      "source": [
        "# https://www.youtube.com/watch?v=XKHEtdqhLK8\n\n# copyfile() = copies contents of a file\n# copy()     = copyfile(0 + persmission mode + destination can be a directory\n# copy2()    = copy() + copies metadata (file's creation and modification times)\n\nimport shutil  #good module to copy files.\nshutil.copyfile('test.txt', 'copy.txt') #this function has both a source (src) and a destination (dst)\n# if file is not in project folder, would need to list the file path.\n"
      ]
    },
    {
      "cell_type": "markdown",
      "metadata": {},
      "source": [
        "#Lesson 35: Move a file\n"
      ]
    },
    {
      "cell_type": "code",
      "execution_count": null,
      "metadata": {},
      "outputs": [],
      "source": [
        "# move a file from projects folder to desktops folder.\n# https://www.youtube.com/watch?v=XKHEtdqhLK8\n\nimport os\nsource = \"test.txt\"\ndestination = \"C:\\\\Users\\\\WilliamBillCorkery\\\\OneDrive - Iberia Advisory\\\\Desktop\\\\text.txt\"\n\ntry: #recommend doing code in try/except block to handle issues.\n    if os.path.exists(destination):\n        print(\"There is already a file there\")\n    else:\n        os.replace(source,destination)\n        print(source+\" was moved\")\nexcept FileNotFoundError:\n    print(source+\" was not found\")\n"
      ]
    },
    {
      "cell_type": "markdown",
      "metadata": {},
      "source": [
        "#Lesson 36: Delete a File\n"
      ]
    },
    {
      "cell_type": "code",
      "execution_count": null,
      "metadata": {},
      "outputs": [],
      "source": [
        "# https://www.youtube.com/watch?v=XKHEtdqhLK8\n\nimport os\nimport shutil\npath = 'test.txt'\n\ntry:\n    os.remove(path)     # delete a file\n    #os.rmdir(path)      # delete a file or empty folder\n    #shutil.rmtree(path) # delete files and/or folders\nexcept FileNotFoundError:\n    print(\"That file was not found\")\nexcept PermissionError:\n    print(\"You do not have permission to delete that\")\nexcept OSError:\n    print(\"That folder contains files\")\nelse:\n    print(path+\" was deleted\")\n"
      ]
    },
    {
      "cell_type": "markdown",
      "metadata": {},
      "source": [
        "#Lesson 37: Modules\n"
      ]
    },
    {
      "cell_type": "code",
      "execution_count": null,
      "metadata": {},
      "outputs": [],
      "source": [
        "# a file containing python code. may contain functions, classes, etc.\n# Used with modular programming, which is to separate a program into parts.\n# https://www.youtube.com/watch?v=XKHEtdqhLK8\n\n# so this is a module (37-Modules). So lets say there is another module called messages and has two functions.\n# the first is hello() and the second is bye().\n#import messages as msg  # this imports the messages module as msg (makes it easier).\n#msg.hello()       # this would call the hello() function from the messages module.\n\n# another way to import is below.\n# it is longer at first but no longer need message or msg before function.\n#from messages import hello,bye  # cann also say import * which imports all. dont do this as huge.\n#hello()\n#bye()\n\n# prepackaged modules below.\n# can also go to python module index on python.org.\nhelp(\"modules\")\n"
      ]
    },
    {
      "cell_type": "markdown",
      "metadata": {},
      "source": [
        "#Lesson 38: Rock, Paper, Scissors\n"
      ]
    },
    {
      "cell_type": "code",
      "execution_count": null,
      "metadata": {},
      "outputs": [],
      "source": [
        "# https://www.youtube.com/watch?v=XKHEtdqhLK8\n\nimport  random\n\nwhile True:\n    choices = [\"rock\", \"paper\", \"scissors\"]\n    computer = random.choice(choices)\n    player = None  # need to initalize player here.\n    while player not in choices:\n        player = input(\"rock, paper, or scissors?: \").lower()\n\n        if player == computer:\n            print(\"computer: \", computer)\n            print(\"player: \", player)\n            print(\"Tie!\")\n        elif player == \"rock\":\n            if computer == \"paper\":\n                print(\"computer: \", computer)\n                print(\"player: \", player)\n                print(\"You lose!\")\n            if computer == \"scissors\":\n                print(\"computer: \", computer)\n                print(\"player: \", player)\n                print(\"You win!\")\n        elif player == \"scissors\":\n            if computer == \"rock\":\n                print(\"computer: \", computer)\n                print(\"player: \", player)\n                print(\"You lose!\")\n            if computer == \"paper\":\n                print(\"computer: \", computer)\n                print(\"player: \", player)\n                print(\"You win!\")\n        elif player == \"paper\":\n            if computer == \"scissors\":\n                print(\"computer: \", computer)\n                print(\"player: \", player)\n                print(\"You lose!\")\n            if computer == \"rock\":\n                print(\"computer: \", computer)\n                print(\"player: \", player)\n                print(\"You win!\")\n    play_again = input(\"Play again? (yes/no): \").lower()\n    if play_again != \"yes\":\n        break\nprint(\"Bye!\")\n"
      ]
    },
    {
      "cell_type": "markdown",
      "metadata": {},
      "source": [
        "#Lesson 39: Quiz Game\n"
      ]
    },
    {
      "cell_type": "code",
      "execution_count": null,
      "metadata": {},
      "outputs": [],
      "source": [
        "# https://www.youtube.com/watch?v=XKHEtdqhLK8\n# first create the shell of four functions that need.\n\ndef new_game():\n     guesses = []\n     correct_guesses = 0\n     question_num = 1\n     for key in questions:\n         print(\"--------------------------\")\n         print(key)\n         for i in options[question_num-1]:\n             print(i)\n         guess = input(\"Enter (A, B, C, or D): \")\n         guess = guess.upper()\n         guesses.append(guess)\n         correct_guesses += check_answer(questions.get(key), guess)\n         question_num += 1\n     display_score(correct_guesses, guesses)\n# ------------------------------------\ndef check_answer(answer,guess):\n    if answer == guess:\n        print(\"Correct!\")\n        return 1\n    else:\n        print(\"Wrong!\")\n        return 0\n\n# ------------------------------------\ndef display_score(correct_guesses, guesses):\n    print(\"--------------------------\")\n    print(\"RESULTS\")\n    print(\"--------------------------\")\n    print(\"Answers: \", end=\" \")\n    for i in questions:\n        print(questions.get(i), end=\" \")\n    print()\n\n    print(\"Guesses: \", end=\" \")\n    for i in guesses:\n        print(i, end=\" \")\n    print()\n    score = int((correct_guesses/len(questions))*100)\n    print(\"Your score is: \"+str(score)+\"%\")\n# ------------------------------------\ndef play_again():\n    response = input(\"Do you want to play again? (Yes or no):\")\n    response = response.upper()\n    if response == \"YES\":\n        return True\n    else:\n        return False\n\nquestions = {\"Who created Python?: \" : \"A\",\n             \"What year was Python created?: \": \"B\",\n             \"Python is atributed to which comedy group?: \": \"C\",\n             \"Is the Earth round?: \": \"A\"}\n\noptions = [[\"A. Guido van Rossum\", \"B. Elon Musk\", \"C. Bill Gates\", \"D. Mark Zuckerburg\"],\n           [\"A. 1989\", \"B. 1991\", \"C. 2000\", \"D. 2016\"],\n           [\"A. Lonely Island\", \"B. Smosh\", \"C. Monty Python\", \"D. SNL\"],\n           [\"A. True\", \"B. False\", \"C. Sometimes\", \"D. What is the Earth?\"]]\n\nnew_game()\nwhile play_again():\n    new_game()\n\nprint(\"Goodbye!\")\n"
      ]
    },
    {
      "cell_type": "markdown",
      "metadata": {},
      "source": [
        "#Lesson 40: Object Oriented Programming (OOP)\n"
      ]
    },
    {
      "cell_type": "code",
      "execution_count": null,
      "metadata": {},
      "outputs": [],
      "source": [
        "# https://www.youtube.com/watch?v=XKHEtdqhLK8\n# object is an instance of a class. Combination of attributes (what object is/has, e.g. tall) and\n# methods (what object can do, e.g. sleep).\n\n#if program is large, pull class in a seperate module.\n# Dont need to pass in self into class.\n\nfrom car import Car\ncar_1 = Car(\"Chevy\", \"Corvette\", 2021, 'blue')\n# print(car_1.make)\ncar_2 = Car(\"Ford\", \"Mustang\", 2022, 'red')\n\ncar_1.drive()\ncar_2.stop()\n"
      ]
    },
    {
      "cell_type": "markdown",
      "metadata": {},
      "source": [
        "#Lesson 41: Class Variables\n"
      ]
    },
    {
      "cell_type": "code",
      "execution_count": null,
      "metadata": {},
      "outputs": [],
      "source": [
        "# https://www.youtube.com/watch?v=XKHEtdqhLK8\n# class variable is declared inside class and is default normally.\n# instance variable is declared inside a constructor. Has unique value.\n\nfrom car import Car\ncar_1 = Car(\"Chevy\", \"Corvette\", 2021, 'blue')\ncar_2 = Car(\"Ford\", \"Mustang\", 2022, 'red')\n\n#Car.wheels = 2  #this changes all default wheels number\n"
      ]
    },
    {
      "cell_type": "markdown",
      "metadata": {},
      "source": [
        "#Lesson 42: Inheritance\n"
      ]
    },
    {
      "cell_type": "code",
      "execution_count": null,
      "metadata": {},
      "outputs": [],
      "source": [
        "# https://www.youtube.com/watch?v=XKHEtdqhLK8\n# classes can inherit attributes and methods from something else (usally another class).\n# so if Animal (parent class) is a class with move() and eat().\n# then have Dog (subclass/child class) has move(), bark(), and eat().\n# move() is overriden. eat(0 is inheritied. Bark() is new.\n\n#will keep all classes in same file for ease.\n#the reason want things in parent class if need to make changes,\n#only need to do it in one place.\n\nclass Animal:\n    alive = True\n    def eat(self):\n        print(\"This animal is eating\")\n    def sleep(self):\n        print(\"This animal is sleeping\")\n\nclass Rabbit(Animal):  #Rabbit is child class of Animal parent class\n    def run(self):\n        print(\"This rabbit is running\")\nclass Fish(Animal):\n    def swim(self):\n        print(\"This fish is swimming\")\nclass Hawk(Animal):\n    def fly(self):\n        print(\"This hawk is flying\")\n\nrabbit = Rabbit()\nfish = Fish()\nhawk = Hawk()\n\nrabbit.run()\nfish.swim()\nhawk.fly()\n\n#print((rabbit.alive))\n#fish.eat()\n#hawk.sleep()\n"
      ]
    },
    {
      "cell_type": "markdown",
      "metadata": {},
      "source": [
        "#Lesson 43: Multilevel Inheritance\n"
      ]
    },
    {
      "cell_type": "code",
      "execution_count": null,
      "metadata": {},
      "outputs": [],
      "source": [
        "# https://www.youtube.com/watch?v=XKHEtdqhLK8\n#Multi-level inerhtiance = when a derived (child) class inherits from\n#another derived (child) class\n\nclass Organism:\n    alive = True\nclass Animal(Organism):\n    def eat(self):\n        print(\"This Animal is eating\")\nclass Dog(Animal):\n    def bark(self):\n        print(\"This dog is barking\")\n\ndog = Dog()\nprint(dog.alive)\ndog.eat()\ndog.bark()\n"
      ]
    },
    {
      "cell_type": "markdown",
      "metadata": {},
      "source": [
        "#Lesson 44: Multiple  Inheritance\n"
      ]
    },
    {
      "cell_type": "code",
      "execution_count": null,
      "metadata": {},
      "outputs": [],
      "source": [
        "# https://www.youtube.com/watch?v=XKHEtdqhLK8\n#Multiple Inheritance = when a child class is derived from more than one parent class\n\n#this is used when want to create a class that needs different attributes/methods from multiple classes.\n#so below some animals are both prey and predator (e.g. fish)\nclass Prey:\n    def flee(self):\n        print(\"This animal flees\")\nclass Predator:\n    def hunt(self):\n        print(\"This animal is hunting\")\n\nclass Rabbit(Prey):\n    pass\nclass Hawk(Predator):\n    pass\nclass Fish(Prey, Predator):\n    pass\n\nrabbit = Rabbit()\nhawk = Hawk()\nfish = Fish()\n\n#as can be seen below, only fish has flee and hunt.\n#rabbit.flee()\n#hawk.hunt()\n#fish.hunt()\n#fish.flee()\n"
      ]
    },
    {
      "cell_type": "markdown",
      "metadata": {},
      "source": [
        "#Lesson 45: Method Overriding\n"
      ]
    },
    {
      "cell_type": "code",
      "execution_count": null,
      "metadata": {},
      "outputs": [],
      "source": [
        "# https://www.youtube.com/watch?v=XKHEtdqhLK8\n# method overridding is when a subclass (or child class)\n# can override a method of its parent class.\n\n#animal is parent class and rabbit is child class.\nclass Animal:\n    def eat(self):\n        print(\"This animal is eating\")\nclass Rabbit(Animal):\n    def eat(self):\n        print(\"This rabbit is eating a carrot\")\n\nrabbit = Rabbit()\nrabbit.eat()\n"
      ]
    },
    {
      "cell_type": "markdown",
      "metadata": {},
      "source": [
        "#Lesson 46: Method Chaining\n"
      ]
    },
    {
      "cell_type": "code",
      "execution_count": null,
      "metadata": {},
      "outputs": [],
      "source": [
        "# https://www.youtube.com/watch?v=XKHEtdqhLK8\n# Method chaining = calling multiple methods sequentially\n# each call performs an action on the same object and returns self\n\nclass Car:\n    def turn_on(self):\n        print(\"You start the engine\")\n        return self\n    def drive(self):\n        print(\"You drive the car\")\n        return self\n    def brake(self):\n        print(\"You step on the brakes\")\n        return self\n    def turn_off(self):\n        print(\"You turn off the engine\")\n        return self\n\ncar = Car()\n#car.turn_on()\n#car.drive()\ncar.turn_on().drive()\ncar.brake()\\    #this backslash is introduced by program to make it more readable.\n    .turn_off()\n"
      ]
    },
    {
      "cell_type": "markdown",
      "metadata": {},
      "source": [
        "#Lesson 47: Super Function\n"
      ]
    },
    {
      "cell_type": "code",
      "execution_count": null,
      "metadata": {},
      "outputs": [],
      "source": [
        "# https://www.youtube.com/watch?v=XKHEtdqhLK8\n# super() = Function used to give access to the methods of a parent class.\n# Returns a temporary object of a parent class when used.\n\n#so with below, any similarities between square and cube,\n# can move to rectangle. This will decrease repeat code.\nclass Rectangle:\n    def __init__(self, length, width):\n        self.length = length\n        self.width = width\nclass Square(Rectangle):\n    def __init__(self,length,width):\n        super().__init__(length,width)\n    def area(self):\n        return self.length*self.width\nclass Cube(Rectangle):\n    def __init__(self,length, width, height):\n        super().__init__(length, width)\n        self.height = height\n    def volumne(self):\n        return self.length*self.width*self.height\n\nsquare = Square(3,3)\ncube = Cube(3,3,3)\nprint(square.area())\nprint(cube.volumne())\n"
      ]
    },
    {
      "cell_type": "markdown",
      "metadata": {},
      "source": [
        "#Lesson 48: Abstract Classes\n"
      ]
    },
    {
      "cell_type": "code",
      "execution_count": null,
      "metadata": {},
      "outputs": [],
      "source": [
        "# https://www.youtube.com/watch?v=XKHEtdqhLK8\n# Prevents a user from creating an object of that class +\n# compels a user to override abstract methods in a child class.\n# basically a form of checks and balances\n\n#abstract class = a class which contains one or more abstract methods.\n#abstract method = a method that has a declaration but doe not have an implementation.\n\nfrom abc import ABC, abstractmethod\nclass Vehicle(ABC):  #this is class.\n    @abstractmethod   #this is a decorator.\n    def go(self):  #this is the method.\n        pass\n    @abstractmethod\n    def stop(self):\n        pass\nclass Car(Vehicle):\n    def go(self):\n        print(\"You drive the car\")\n    def stop(self):\n        print(\"This car is stopped\")\n\nclass Motorcycle(Vehicle):\n    def go(self):\n        print(\"You ride the motorcycle\")\n    def stop(self):\n        print(\"This motorcycle is stopped\")\n\n#vehicle = Vehicle()\ncar = Car()\nmotorcycle = Motorcycle()\n\n#if try to run this, get typeerror because abstract class.\n#vehicle.go()\ncar.go()\ncar.stop()\nmotorcycle.go()\nmotorcycle.stop()\n"
      ]
    },
    {
      "cell_type": "markdown",
      "metadata": {},
      "source": [
        "#Lesson 49: Objects as Arguments\n"
      ]
    },
    {
      "cell_type": "code",
      "execution_count": null,
      "metadata": {},
      "outputs": [],
      "source": [
        "# https://www.youtube.com/watch?v=XKHEtdqhLK8\n\nclass Car:\n    color = None\nclass Motorcylce:\n    color = None\n\n# make sure this is not within class because then would be a method of car class.\ndef change_color(vehicle, color): #argument names should be lower case.\n    vehicle.color = color\n\ncar_1 = Car()\ncar_2 = Car()\ncar_3 = Car()\nbike_1 = Motorcylce()\n\nchange_color(car_1, \"red\")\nchange_color(car_2, \"white\")\nchange_color(car_3, \"blue\")\nchange_color(bike_1, \"yellow\")\n\nprint(car_1.color)\nprint(car_2.color)\nprint(car_3.color)\nprint(bike_1.color)\n"
      ]
    },
    {
      "cell_type": "markdown",
      "metadata": {},
      "source": [
        "#Lesson 50: Duck Typing\n"
      ]
    },
    {
      "cell_type": "code",
      "execution_count": null,
      "metadata": {},
      "outputs": [],
      "source": [
        "# https://www.youtube.com/watch?v=XKHEtdqhLK8\n# concept where the class of an objet is less important than the methods/attributes\n# class type is not checked if minimum methods/attributes are present.\n# \"If it walks like a duck, and it quacks like a duck, then it must be a duck.\"\n\nclass Duck:\n    def walk(self):\n        print(\"This duck is walking\")\n    def talk(self):\n        print(\"this duck is quacking\")\nclass Chicken:\n    def walk(self):\n        print(\"This chicken is walking\")\n    def talk(self):\n        print(\"this chieckn is clucking\")\nclass Person():\n    def catch(self, duck):\n        duck.walk()\n        duck.talk()\n        print(\"You caught the critter!\")\n\nduck = Duck()\nchicken= Chicken()\nperson = Person()\n\n#person.catch(duck)\nperson.catch(chicken)\n"
      ]
    },
    {
      "cell_type": "markdown",
      "metadata": {},
      "source": [
        "#Lesson 51: Walrus Operator :=\n"
      ]
    },
    {
      "cell_type": "code",
      "execution_count": null,
      "metadata": {},
      "outputs": [],
      "source": [
        "# https://www.youtube.com/watch?v=XKHEtdqhLK8\n\n# new to Python 3.8\n# assignment expression aka walrus operator\n# assigned values to variables as part of a lager expression\n\nhappy = True\nprint(happy)\nprint(happy := True) #in this walrus operator, happy is assigned to True and printed in same line\n\n#example without walrus\nfoods = list()\nwhile True:\n    food = input(\"What food do you like?: \")\n    if food == \"quit\":\n        break\n    foods.append(food)\n#example with walrus\nfoods = list()\nwhile food := input(\"What food do you like?: \") != \"quit\":\n    foods.append(food)\n"
      ]
    },
    {
      "cell_type": "markdown",
      "metadata": {},
      "source": [
        "#Lesson 52: Functions to Variables\n"
      ]
    },
    {
      "cell_type": "code",
      "execution_count": null,
      "metadata": {},
      "outputs": [],
      "source": [
        "# https://www.youtube.com/watch?v=XKHEtdqhLK8\n\n#This defines the function\ndef hello():\n    print(\"Hello\")\n\n#this calls the function.\nhello()\n\n#this will pring the location of the function in memory. It changes.\nprint(hello)\n#these will be the same location as it is basically a function with two alias or names (hi and hello)\nhi = hello\nprint(hi)\n\nsay = print  #this is assigning print function to a variable.\nsay(\"What! I cannot believe this works!\")\n"
      ]
    },
    {
      "cell_type": "markdown",
      "metadata": {},
      "source": [
        "#Lesson 53: Higher Order Function\n"
      ]
    },
    {
      "cell_type": "code",
      "execution_count": null,
      "metadata": {},
      "outputs": [],
      "source": [
        "# https://www.youtube.com/watch?v=XKHEtdqhLK8\n\n# Higher Order Functions = a function that either:\n# 1. accepts a function as an argument or\n# 2. returns a function (In Python, functions are also treated as objects)\n\n# example of a function as argument. loud and quiet go into hello as function arguments.\ndef loud(text):\n    return text.upper()\ndef quiet(text):\n    return text.lower()\ndef hello(func):\n    text = func(\"Hello\")\n    print(text)\n\nhello(loud)\nhello(quiet)\n\n# example of a returning a function\ndef divisor(x):\n    def dividend(y):\n        return y/x\n    return dividend\ndivide = divisor(2)\nprint(divide(10))\n"
      ]
    },
    {
      "cell_type": "markdown",
      "metadata": {},
      "source": [
        "#Lesson 54: Lambda\n"
      ]
    },
    {
      "cell_type": "code",
      "execution_count": null,
      "metadata": {},
      "outputs": [],
      "source": [
        "# https://www.youtube.com/watch?v=XKHEtdqhLK8\n# lambda = function written in 1 line using lambda keyword.\n# Accepts any number of arguments (parameters), but only has one epxression.\n# (think of it as a shortcut)\n# (useful if needed for a short period of time, throw-away)\n\n# lambda parameters:expression\n\ndef double(x):\n    return x * 2\nprint(double(5))\n# this is the same as above lines of code.\ndouble = lambda x:x*2\nmultiply = lambda x,y:x*y\nadd = lambda x,y,z: x+y+z\nfull_name = lambda first_name, last_name: first_name+\" \"+last_name\nage_check = lambda age: True if age >= 18 else False\n\nprint(double(5))\nprint(multiply(5,6))\nprint(add(5,6,7))\nprint(full_name(\"Bro\", \"Code\"))\nprint(age_check(18))\n"
      ]
    },
    {
      "cell_type": "markdown",
      "metadata": {},
      "source": [
        "#Lesson 55: Sort\n"
      ]
    },
    {
      "cell_type": "code",
      "execution_count": null,
      "metadata": {},
      "outputs": [],
      "source": [
        "# https://www.youtube.com/watch?v=XKHEtdqhLK8\n# sort() method = used with lists\n# sort() function = used with iterables\n\n#this is sorting simple lists, tuples, etc.\nstudents_0 = (\"Squidward\", \"Sandy\",\"Patrick\",\"Spongebob\",\"Mr. Krabs\")\nsorted_students_0 = sorted(students_0)\nfor i in sorted_students_0:\n    print(i)\n\n#this is for sorting complex things like list of tuples below.\nstudents = [(\"Squidward\", \"F\", 60),\n            (\"Sandy\", \"A\", 33),\n            (\"Patrick\", \"D\", 36),\n            (\"Spongebob\", \"B\", 20),\n            (\"Mr. Krabs\", \"C\", 78)]\n\nstudents.sort() # can have students.sort(key=age) which will just sort by students age\nfor i in students:\n    print(i)\n\nage = lambda ages:ages[2]\nstudents.sort(key=age) # can have students.sort(key=age) which will just sort by students age\nfor i in students:\n    print(i)\n\n#sort doesnt work well with tuples. so can use sorted() function with tuples.\ngrade = lambda grades:grades[1]\nsorted_stuents = sorted(students, key=grade, reverse=True) # this reverses it\nfor i in sorted_stuents:\n    print(i)\n"
      ]
    },
    {
      "cell_type": "markdown",
      "metadata": {},
      "source": [
        "#Lesson 56: Map\n"
      ]
    },
    {
      "cell_type": "code",
      "execution_count": null,
      "metadata": {},
      "outputs": [],
      "source": [
        "# https://www.youtube.com/watch?v=XKHEtdqhLK8\n# map() = applies a function to each itme in an iterable (list, tuple, etc.)\n# map(function, iterable) so it accepts two arguments\n\n#list of tuples\nstore = [(\"shirt\", 20.00),\n          (\"pants\", 25.00),\n          (\"jacket\", 50.00),\n          (\"socks\", 10.00)]\n\n# one USD is 0.82 euros\nto_euros = lambda  data:(data[0], data[1]*0.82)\nto_dollars = lambda  data:(data[0], data[1]/0.82)\n\n#store_euros = list(map(to_euros, store))\n#for i in store_euros:\n#    print(i)\n\nstore_dolalrs = list(map(to_dollars, store))\nfor i in store_dolalrs:\n    print(i)\n"
      ]
    },
    {
      "cell_type": "markdown",
      "metadata": {},
      "source": [
        "#Lesson 57: Filter\n"
      ]
    },
    {
      "cell_type": "code",
      "execution_count": null,
      "metadata": {},
      "outputs": [],
      "source": [
        "# https://www.youtube.com/watch?v=XKHEtdqhLK8\n# filter() = creates a collection of elements from an iterable for which a function returns True\n# filter(function, iterable) so it accepts two arguments\n\nfriends = [(\"Rachel\", 19),\n           (\"Monica\", 18),\n           (\"Phobe\", 17),\n           (\"Joey\", 16),\n           (\"Chandler\", 21),\n           (\"Ross\", 20)]\n\nage = lambda data:data[1] >= 18\ndrinking_buddies = list(filter(age, friends))  # the list() is casting it back into a new list, drinking_buddies\nfor i in drinking_buddies:\n    print(i)\n"
      ]
    },
    {
      "cell_type": "markdown",
      "metadata": {},
      "source": [
        "#Lesson 58: Reduce\n"
      ]
    },
    {
      "cell_type": "code",
      "execution_count": null,
      "metadata": {},
      "outputs": [],
      "source": [
        "# https://www.youtube.com/watch?v=XKHEtdqhLK8\n# reduce()= apply a function to a iterable and reduce it to a single cumulative value.\n# performs function on first tow elements and repeats process until 1 value remains.\n\n# reduce(function, iterable)\n\nimport functools\n\nletters = [\"H\", \"E\", \"L\", \"L\", \"O\"]\nword = functools.reduce(lambda x,y,:x+y, letters)\nprint(word)\n\nfactorial = [5,4,3,2,1]\nresults = functools.reduce(lambda x,y,:x*y, factorial)\nprint(results)\n"
      ]
    },
    {
      "cell_type": "markdown",
      "metadata": {},
      "source": [
        "#Lesson 59: List Comprehensions\n"
      ]
    },
    {
      "cell_type": "code",
      "execution_count": null,
      "metadata": {},
      "outputs": [],
      "source": [
        "# https://www.youtube.com/watch?v=XKHEtdqhLK8\n# list comprehension = a way to create a new list with less syntax\n# can mimic certain lambda functions, easier to read\n# list = [expression for item in iterable if conditional] <-- if one if condition\n# list = [expression (if/else) for item in iterable]      <-- if have if/else condition\n\nsquares = []                # create an empty list\nfor i in range(1,11):       # create a for loop\n    squares.append(i*i)     # define what each loop iteration should do\nprint(squares)\n\nsquares1 = [i*i for i in range(1,11)]\nprint(squares1)\n\n#using lambda\nstudents = [100,90,80,70,60,50]\npassed_students = list(filter(lambda x:x>=60, students))\nprint(passed_students)\n\n#using list comprehension\npassed_students1 = [i for i in students if i>=60]\npassed_students2 = [i if i>=60 else \"Failed\" for i in students]\nprint(passed_students1)\nprint(passed_students2)\n"
      ]
    },
    {
      "cell_type": "markdown",
      "metadata": {},
      "source": [
        "#Lesson 60: Dictionary Comprehension\n"
      ]
    },
    {
      "cell_type": "code",
      "execution_count": null,
      "metadata": {},
      "outputs": [],
      "source": [
        "# https://www.youtube.com/watch?v=XKHEtdqhLK8\n# Dictionary Comprehension = create dictionaries using an expression\n# can replace for loops and certain lambda functions\n\n# 1: dictionary = {key: expression for (key,value) in iterable}\n# 2: dictionary = {key: expression for (key,value) in iterable if conditional}\n# 3: dictionary = {key:(if/else) for (key,value) in iterable}\n# 4: dictionary = {key: function(value) for (key,value) in iterable}\n\n# Dictionary version 1\ncities_in_F = {'New York': 32, 'Boston': 75, 'Los Angeles':100, 'Chicago':50}\ncities_in_C = {key: round((value-32)*(5/9)) for (key,value) in cities_in_F.items()}\nprint(cities_in_C )\n\n# Dictionary version 2\nweather = {'New York': \"snowing\", 'Boston': \"sunny\", 'Los Angeles':\"sunny\", 'Chicago':\"cloudy\"}\nsunny_weather = {key: value for (key, value) in weather.items() if value == \"sunny\"}\nprint(sunny_weather)\n\n# Dictionary version 3\ncities = {'New York': 32, 'Boston': 75, 'Los Angeles':100, 'Chicago':50}\ndesc_cities3 = {key:(\"Warm\" if value >=40 else \"Cold\") for (key,value) in cities.items()}\nprint(desc_cities3)\n\n# Dictionary version 4\ndef check_temp(value):\n    if value>= 70:\n        return \"Hot\"\n    elif 69>=value >=40:\n        return \"Warm\"\n    else:\n        return \"Cold\"\ncities = {'New York': 32, 'Boston': 75, 'Los Angeles':100, 'Chicago':50}\ndesc_cities4  = {key:check_temp(value) for (key,value) in cities.items()}\nprint(desc_cities4)\n"
      ]
    },
    {
      "cell_type": "markdown",
      "metadata": {},
      "source": [
        "#Lesson 61: Zip Function\n"
      ]
    },
    {
      "cell_type": "code",
      "execution_count": null,
      "metadata": {},
      "outputs": [],
      "source": [
        "# https://www.youtube.com/watch?v=XKHEtdqhLK8\n# zip(*iterables) = aggregate elements from two or more iterables (list, tuples, sets, etc.)\n#                   creates a zip object with paired elements stored in tuples for each element\n\nusername = [\"Dude\", \"Bro\", \"Mister\"]\npasswords = (\"passwprd\", \"abc123\", \"guest\")\nusers = dict(zip(username, passwords))\n# users = list(zip(username, passwords)) can also make this into a list zip.\nprint(type(users))\n\nfor i in users:\n    print(i)\n\nfor key, value in users.items():\n    print(key+\" : \"+value)\n"
      ]
    },
    {
      "cell_type": "markdown",
      "metadata": {},
      "source": [
        "#Lesson 62:  if _name_ == '__main__'\n"
      ]
    },
    {
      "cell_type": "code",
      "execution_count": null,
      "metadata": {},
      "outputs": [],
      "source": [
        "# https://www.youtube.com/watch?v=XKHEtdqhLK8\n# Python interpreter sets \"special variables\", one of which is __name__\n# Python will assign the __name__ variable a value of '__main__' if it is\n# the initial module being run.\n\ndef main():\n    print(\"Hello\")\n\nif __name__ == '__main__':\n    main()\n"
      ]
    },
    {
      "cell_type": "markdown",
      "metadata": {},
      "source": [
        "#Lesson 63:Time Module\n"
      ]
    },
    {
      "cell_type": "code",
      "execution_count": null,
      "metadata": {},
      "outputs": [],
      "source": [
        "# https://www.youtube.com/watch?v=XKHEtdqhLK8\nimport time\n\nprint(time.ctime(0))    # convert a time expressed in seconds epoch to a readable string\n                        # epoch = when your computer thinks time began (reference point)\nprint(time.time())  # return current seconds since epoch\nprint(time.ctime(time.time())) # will get current time.\ntime_object = time.localtime()\ntime_object = time.gmtime() # this is UTC time.\nprint(time_object)\nlocal_time = time.strftime(\"%B %d %Y %H: %M:%S\", time_object) # go to python offical documentation\nprint(local_time)\n\ntime_string = \"20 April, 2020\"\ntime_object = time.strptime(time_string, \"%d %B, %Y\") # this parse a string a return time object.\nprint(time_object)\n\n# asctime will accept tuple format.\ntime_tuple = (2020, 4, 20, 4, 20, 0, 0, 0, 0)\ntime_string = time.asctime(time_tuple) # accepts a tuple representation of time.\nprint(time_string)\n\n# mktime will take time and convert it to seconds since epoch.\ntime_tuple = (2020, 4, 20, 4, 20, 0, 0, 0, 0)\ntime_string = time.mktime(time_tuple) # accepts a tuple representation of time.\nprint(time_string)\n"
      ]
    },
    {
      "cell_type": "markdown",
      "metadata": {},
      "source": [
        "#Lesson 64:Threading\n"
      ]
    },
    {
      "cell_type": "code",
      "execution_count": null,
      "metadata": {},
      "outputs": [],
      "source": [
        "# https://www.youtube.com/watch?v=XKHEtdqhLK8\n# thread = a flow of execution, like a separate order of instructions.\n#               However each thread takes a turn running to achieve concurrency\n#               GIL = Global interpreter lock, allows only one thread to hold\n#               control of the python interpreter at any one time\n\n# CPU bound = program/task spends mos of its time waiting for internal events\n#               (CPU intensive). Use multiprocessing.\n\n# io bound = program/task spends most of its time waiting for external events\n#               (user input, web scraping). use multithreading.\n\nimport threading\nimport time\n\n# in the example below, lots of time will be IO bound as waiting for sleep\n# so running on main thread see it takes 12 seconds.\ndef eat_breakfast():\n    time.sleep(3)\n    print(\"You eat breakfast\")\n\ndef drink_coffee():\n    time.sleep(4)\n    print(\"You drink coffee\")\n\ndef study():\n    time.sleep(5)\n    print(\"You finish studying\")\n\n#eat_breakfast()\n#drink_coffee()\n#study()\n# these tasks were complete sequentailly.\n#  but realistically we as humans these tasks can be completed together.\n# so basically multithreading.\n\nx = threading.Thread(target=eat_breakfast, args=())\nx.start()\ny = threading.Thread(target=drink_coffee, args=())\ny.start()\nz = threading.Thread(target=study, args=())\nz.start()\n# this program only took 5 seconds as there were 4 threads running.\n# these threads were run concurrently.\n# active count and enumerate were called first as main thread called these first\n\n# if want our main thread to wait for 3 instructive threads, use join below.\nx.join()\ny.join()\nz.join()\n\nprint(threading.active_count())\nprint(threading.enumerate())\nprint(time.perf_counter())  # trick to return how long calling thread/main\n# thread to finish instructions. main thread is in charge of creating 3 additonal threads.\n"
      ]
    },
    {
      "cell_type": "markdown",
      "metadata": {},
      "source": [
        "#Lesson 65:Daemon Thread\n"
      ]
    },
    {
      "cell_type": "code",
      "execution_count": null,
      "metadata": {},
      "outputs": [],
      "source": [
        "# https://www.youtube.com/watch?v=XKHEtdqhLK8\n\n# daemon thread = a thread that runs in the background, not important for program to run\n#               your program will not wait for daemon threads to complete before exiting\n#               non-daemon threads cannot normally be killed, stay alive until task is complete\n#\n#               Daemon thread examples: background tasks, garbage collection, waiting for input, long running processes\n\nimport threading\nimport time\ndef timer():\n    print()\n    print()\n    count = 0\n    while True:\n        time.sleep(1)\n        count += 1\n        print(\"Logged in for: \", count, \"seconds\")\n\n# if dont change it to daemon thread, will continue\n# x = threading.Thread(target=timer)\nx = threading.Thread(target=timer, daemon=True)\nx.start()\n\nanswer = input(\"Do you wish to exit?\")\n\n# this is a way to set daemon thread to true or false\n# x.setDaemon(True)\n# this returns true of false\n# print(x.isDaemon())\n"
      ]
    },
    {
      "cell_type": "markdown",
      "metadata": {},
      "source": [
        "#Lesson 66: Multiprocessing\n"
      ]
    },
    {
      "cell_type": "code",
      "execution_count": null,
      "metadata": {},
      "outputs": [],
      "source": [
        "# https://www.youtube.com/watch?v=XKHEtdqhLK8\n# multiprocessing = running tasks in parallel on different cpu cores, bypassing GIL used for threading\n#                   multiprocessing = better for cpu bound tasks (heavy CPU usage)\n#                   multithreading = better for io bound tasks (waiting around)\n\nfrom multiprocessing import Process, cpu_count\nimport time\n\ndef counter(num):\n    count = 0\n    while count < num:\n        count += 1\n\ndef main():\n# this way below with only is if dont have multiprocessing\n#    a = Process(target= counter, args=(1000,))\n#    a.start\n#    a.join\n    print(cpu_count())\n    a = Process(target=counter, args=(500,))\n    b = Process(target=counter, args=(500,))\n    a.start()\n    b.start()\n    a.join()\n    b.join()\n    print(\"Finished in:\", time.perf_counter(), \"Seconds\")\n\n# for some reason, my results are seconds since something? I got 103233 while it should be ~15 seconds.\nif __name__ == '__main__':\n    main()\n"
      ]
    },
    {
      "cell_type": "markdown",
      "metadata": {},
      "source": [
        "#Lesson 67: GUI Windows\n"
      ]
    },
    {
      "cell_type": "code",
      "execution_count": null,
      "metadata": {},
      "outputs": [],
      "source": [
        "# https://www.youtube.com/watch?v=XKHEtdqhLK8\n\nfrom tkinter import *\n\n# widgets = GUI elements: buttons, textboxes, labels, images\n# windows = serves as a container to hold or contain these widgets\n\nwindow = Tk() #instantiate an instance of a window\nwindow.geometry(\"420x420\")\nwindow.title(\"Bro Code first GUI program\")\n\nicon = PhotoImage(file='logo.png')\nwindow.iconphoto(True, icon)\nwindow.config(background=\"black\")\n#window.config(background=\"#5cfcff\") #this is a hexadecimal color value.\n\nwindow.mainloop() #place window on computer screen, listen for events\n"
      ]
    },
    {
      "cell_type": "markdown",
      "metadata": {},
      "source": [
        "#Lesson 68: Labels\n"
      ]
    },
    {
      "cell_type": "code",
      "execution_count": null,
      "metadata": {},
      "outputs": [],
      "source": [
        "# https://www.youtube.com/watch?v=XKHEtdqhLK8\n# labels = an area widget that holds text and/or an image within a window\n\nfrom tkinter import *\n\nwindow = Tk()\n\nphoto =PhotoImage(file='person.png')\n\n#simple way to have a label.\n#label = Label(window, text='Hello World')\n#label.place(x=0,y=0) # this will place the label in a certain position\n\nlabel = Label(window,\n              text = 'Bro, do you even code?',\n              font = ('Arial', 40, 'bold'),\n              fg = '#00FF00',\n              bg = 'black',\n              relief = RAISED,\n              bd = 10,\n              padx = 20,\n              pady=20,\n              image = photo,\n              compound=\"bottom\")\nlabel.pack()\n\nwindow.mainloop()\n"
      ]
    },
    {
      "cell_type": "markdown",
      "metadata": {},
      "source": [
        "#Lesson 69: Buttons\n"
      ]
    },
    {
      "cell_type": "code",
      "execution_count": null,
      "metadata": {},
      "outputs": [],
      "source": [
        "# https://www.youtube.com/watch?v=xiUTqnI6xk8\n# button = you click it, then it does stuff\n\nfrom tkinter import *\nwindow = Tk()\n\ncount = 0\ndef click():\n    global count\n    count+=1\n    print(count)\n\nphoto = PhotoImage(file='like.png')\n\nbutton = Button(window,\n                text=\"click me!\",\n                command = click,\n                font = (\"Comic Sans\", 30),\n                fg = \"#00FF00\",\n                bg = \"black\",\n                activeforeground=\"#00FF00\",\n                activebackground=\"black\",\n                state=ACTIVE,\n                image=photo,\n                compound='bottom')\nbutton.pack()\nwindow.mainloop()\n"
      ]
    },
    {
      "cell_type": "markdown",
      "metadata": {},
      "source": [
        "#Lesson 70: Entrybox\n"
      ]
    },
    {
      "cell_type": "code",
      "execution_count": null,
      "metadata": {},
      "outputs": [],
      "source": [
        "# https://www.youtube.com/watch?v=xiUTqnI6xk8\n\n#entry widet = textbox that accepts a single line of user input\nfrom tkinter import *\n\ndef submit():\n    username = entry.get()\n    print(\"Hello \"+username)\n    entry.config(state=DISABLED)  # this makes it so unable to make changes once click submit.\n\ndef delete():\n    entry.delete(0,END)\n\ndef backspace():\n    entry.delete(len(entry.get())-1,END)\n\nwindow = Tk()\n\nentry = Entry(window, font=(\"Arial\", 50),\n              fg=\"#00FF00\",\n              bg=\"black\",\n              show=\"*\")   #this is a good way to hide what user is writing, good with passwords. \nentry.insert(0,'Default Text')\nentry.pack(side =LEFT)\n\nsubmit_button = Button(window,text=\"submit\", command=submit)\nsubmit_button.pack(side = RIGHT)\n\ndelete_button = Button(window,text=\"delete\", command=delete)\ndelete_button.pack(side = RIGHT)\n\nbackspace_button = Button(window,text=\"backspace\", command=backspace)\nbackspace_button.pack(side = RIGHT)\n\nwindow.mainloop()\n"
      ]
    },
    {
      "cell_type": "markdown",
      "metadata": {},
      "source": [
        "#Lesson 71: Checkbox\n"
      ]
    },
    {
      "cell_type": "code",
      "execution_count": null,
      "metadata": {},
      "outputs": [],
      "source": [
        "# https://www.youtube.com/watch?v=xiUTqnI6xk8\n\nfrom tkinter import *\n\ndef display():\n    if(x.get()==1):\n        print(\"You agree!\")\n    else:\n        print(\"You do not agree\")\n\nwindow = Tk()\nx = IntVar()  #returns 1 or 0\npython_photo = PhotoImage(file= 'Python Image.png')\n\ncheck_button= Checkbutton(window,\n                          text='I agree to something',\n                          variable=x,\n                          onvalue=1,\n                          offvalue=0,\n                          command = display,\n                          font=('Arial', 20),\n                          foreground='#00FF00',\n                          background=\"black\",\n                          activeforeground='#00FF00',\n                          activebackground = \"black\",\n                          padx=25,\n                          pady=10,\n                          image=python_photo,\n                          compound='left')\n\ncheck_button.pack()\nwindow.mainloop()\n"
      ]
    },
    {
      "cell_type": "markdown",
      "metadata": {},
      "source": [
        "#Lesson 72: Radio Buttons\n"
      ]
    },
    {
      "cell_type": "code",
      "execution_count": null,
      "metadata": {},
      "outputs": [],
      "source": [
        "# https://www.youtube.com/watch?v=xiUTqnI6xk8\n# radio button = similar to checkbox, but you can only select one from a group\n#I believe the pictures are too large so this isnt working.\n\nfrom tkinter import *\n\nfood = ['pizza', 'hamburger', 'hotdog']\n\ndef order():\n    if(x.get()==0):\n        print('You ordered pizza!')\n    elif(x.get()==1):\n        print('You ordered a hotdog')\n    elif(x.get()==2):\n        print('You ordered a hamburger')\n    else:\n        print('huh?')\n\nwindow = Tk()\nImage_Pizza = PhotoImage(file='pizza.png')\nImage_Hotdog = PhotoImage(file='Hotdog.png')\nImage_Hamburger = PhotoImage(file='Hambuger.png')\nFood_Images = [Image_Pizza, Image_Hamburger, Image_Hotdog]\n\nx = IntVar()\n\nfor index in range(len(food)):\n    radiobutton = Radiobutton(window,\n                              text=food[index], #adds text to radio buttons\n                              variable=x, #groups radiobuttons together if they share\n                              value=index, #assigns each radiobutton a different value.\n                              padx=25, #adds padding on x-axis\n                              font=(\"Impact\",50),\n                              image=Food_Images[index], # this adds image to radio button\n                              compound='left',   #adds image & text left side\n                              indicatoron=0, #eliminate circle indicators\n                              width=375,\n                              command=order # this will set command of radio button to function.\n                              )\n    radiobutton.pack(anchor=W)\n\nwindow.mainloop()\n"
      ]
    },
    {
      "cell_type": "markdown",
      "metadata": {},
      "source": [
        "#Lesson 73: Scale\n"
      ]
    },
    {
      "cell_type": "code",
      "execution_count": null,
      "metadata": {},
      "outputs": [],
      "source": [
        "# https://www.youtube.com/watch?v=xiUTqnI6xk8\n\nfrom tkinter import *\n\ndef submit():\n    print(\"The temperature is: \"+ str(scale.get())+ \" degrees C\")\n\nwindow = Tk()\n#below adds image to the scale.\n#hotImage = PhotoImage(file = 'hot.png')\n#hotLabel = Label(image=hotImage)\n#hotLabel.pack()\n\nscale = Scale(window,\n              from_=100,\n              to=0,\n              length=600,\n              orient=VERTICAL,\n              font = ('Consolas',20),\n              tickinterval = 10, #this adds numeric indicators for value\n              showvalue = 0,   #hides current value\n              troughcolor = 'blue',\n              fg = '#FF1C00',\n              bg = 'black')\n#scale.set(100)   # this sets default slider. below sets it to the middle.\nscale.set(((scale['from']-scale['to'])/2)+scale['to'])\nscale.pack()\n\nbutton = Button(window,text='submit', command=submit)\nbutton.pack()\n\nwindow.mainloop()\n"
      ]
    },
    {
      "cell_type": "markdown",
      "metadata": {},
      "source": [
        "#Lesson 74: Listbox\n"
      ]
    },
    {
      "cell_type": "code",
      "execution_count": null,
      "metadata": {},
      "outputs": [],
      "source": [
        "# https://www.youtube.com/watch?v=xiUTqnI6xk8\n#listbox = a listing of slectable text items within its own container\n\nfrom tkinter import *\n\nwindow = Tk()\ndef submit():\n    food=[]\n    for index in listbox.curselection():\n        food.insert(index,listbox.get(index))\n\n    print(\"You have ordered: \")\n    for index in food:\n        print(index)\n\ndef add():\n    listbox.insert(listbox.size(),EntryBox.get())\n    listbox.config(height=listbox.size())\n\ndef delete():\n    for index in reversed(listbox.curselection()):\n        listbox.delete(index)\n#    listbox.delete(listbox.curselection())  way to delete only one.\n    listbox.config(height=listbox.size())\n\nlistbox=Listbox(window,\n                bg='#f7ffde',\n                font=(\"Constantia\", 35),\n                width=12,\n                height=10,\n                selectmode=MULTIPLE)\nlistbox.pack()\n\nlistbox.insert(1,'pizza')\nlistbox.insert(2,'pasta')\nlistbox.insert(3,'garlic bread')\nlistbox.insert(4,'soup')\nlistbox.insert(5,'salad')\nlistbox.config(height=listbox.size())\n\nEntryBox = Entry(window)\nEntryBox.pack()\n\nSubmitButton = Button(window,text='submit', command=submit)\nSubmitButton.pack()\n\nAddButton = Button(window,text='add', command=add)\nAddButton.pack()\n\nDeleteButton = Button(window,text='delete', command=delete)\nDeleteButton.pack()\n\n\nwindow.mainloop()\n"
      ]
    },
    {
      "cell_type": "markdown",
      "metadata": {},
      "source": [
        "#Lesson 75: Messagebox\n"
      ]
    },
    {
      "cell_type": "code",
      "execution_count": null,
      "metadata": {},
      "outputs": [],
      "source": [
        "# https://www.youtube.com/watch?v=xiUTqnI6xk8\n\nfrom tkinter import *\nfrom tkinter import messagebox #import messagebox library\n\ndef click():\n#    messagebox.showinfo(title='This is an info message box', message='You are a person') # displays a simple message.\n#    messagebox.showwarning(title='WARNING!', message='You have a VIRUS!!!') # displays a warning message.\n#    messagebox.showerror(title='ERROR!', message='Something went wrong')\n\n#the if-else statement below is useful to ask for a decision from user\n#    if messagebox.askokcancel(title='ask ok cancel', message='Do you want to do the thing?'):\n#        print('You did a thing!')\n#    else:\n#        print('You canceled a thing!')\n\n#    if messagebox.askretrycancel(title='ask ok cancel', message='Do you want to retry the thing?'):\n#        print('You retried a thing!')\n#    else:\n#        print('You canceled a thing!')\n\n#    if messagebox.askyesno(title='ask yes or no', message='Do you like cake?'):\n#        print('I like cake too')\n#    else:\n#        print('Why do you not like cake?')\n\n#    answer = messagebox.askquestion(title='ask question', message='Do you like pie?')\n#    if (answer == 'yes'):\n#        print('I like pie too')\n#    else:\n#        print('Why do you not like pie?')\n\n# for icon can also use info and error\n    answer = messagebox.askyesnocancel(title='Yes no cancel', message='Do you like to code?',icon='warning')\n    if(answer == True):\n        print('You like to code!')\n    elif(answer == False):\n        print('Then why are you watching a video on coding?')\n    else:\n        print('You have dodged the question.')\n\nwindow = Tk()\n\nbutton = Button(window,command=click,text='click me')\nbutton.pack()\n\nwindow.mainloop()\n"
      ]
    },
    {
      "cell_type": "markdown",
      "metadata": {},
      "source": [
        "#Lesson 76: Color chooser\n"
      ]
    },
    {
      "cell_type": "code",
      "execution_count": null,
      "metadata": {},
      "outputs": [],
      "source": [
        "# https://www.youtube.com/watch?v=xiUTqnI6xk8\n\nfrom tkinter import *\nfrom tkinter import colorchooser  #submodule. not necessary.\n\ndef click():\n#    window.config(bg=colorchooser.askcolor()[1])  #one line of code version of below.\n    color = colorchooser.askcolor() #assign color to a variable\n    color_Hex = color[1]            #assigns element at index 1 to a varaible\n    window.config(bg=color_Hex)     #change background color\n\nwindow = Tk()\nwindow.geometry('420x420')\nbutton = Button(text='click me', command=click)\nbutton.pack()\nwindow.mainloop()\n"
      ]
    },
    {
      "cell_type": "markdown",
      "metadata": {},
      "source": [
        "#Lesson 77: Text Area\n"
      ]
    },
    {
      "cell_type": "code",
      "execution_count": null,
      "metadata": {},
      "outputs": [],
      "source": [
        "# https://www.youtube.com/watch?v=xiUTqnI6xk8\n# text widget = functions like a text area, you can enter multiple lines of text\n\nfrom tkinter import *\n\ndef submit():\n    input = text.get(\"1.0\", END)\n    print(input)\n\nwindow = Tk()\ntext = Text(window,\n            bg=\"light yellow\",\n            font=(\"Ink Free\",16),\n            height=8,\n            width=20,\n            padx=20,\n            pady=20,\n            fg=\"blue\")\ntext.pack()\nbutton = Button(window,text=\"submit\", command=submit)\nbutton.pack()\nwindow.mainloop()\n"
      ]
    },
    {
      "cell_type": "markdown",
      "metadata": {},
      "source": [
        "#Lesson 78: Open a file\n"
      ]
    },
    {
      "cell_type": "code",
      "execution_count": null,
      "metadata": {},
      "outputs": [],
      "source": [
        "# https://www.youtube.com/watch?v=xiUTqnI6xk8\n\nfrom tkinter import *\nfrom tkinter import filedialog\n\ndef open_File():\n    filepath = filedialog.askopenfilename(initialdir='C://Users//WilliamBillCorkery//PycharmProjects//BroCode-PythonFullCourse',\n                                          title=\"Open File Please\",\n                                          filetypes=(('text files','*.txt'),\n                                          ('all files', '*.*')))\n    file = open(filepath,'r')\n    print(file.read())\n    print(filepath)\n    file.close()\n\nwindow = Tk()\nbutton = Button(text=\"Open\", command=open_File())\nbutton.pack()\nwindow.mainloop()\n"
      ]
    },
    {
      "cell_type": "markdown",
      "metadata": {},
      "source": [
        "#Lesson 79:Save a File\n"
      ]
    },
    {
      "cell_type": "code",
      "execution_count": null,
      "metadata": {},
      "outputs": [],
      "source": [
        "# https://www.youtube.com/watch?v=xiUTqnI6xk8\n\nfrom tkinter import *\nfrom tkinter import filedialog\n\ndef save_file():\n    file = filedialog.asksaveasfile(initialdir='C://Users//WilliamBillCorkery//PycharmProjects//BroCode-PythonFullCourse',\n                                    defaultextension='.txt',\n                                    filetypes=[('Text File', '.txt'),\n                                               ('HTML file', '.html'),\n                                               ('All files', '.*')])\n    if file is None:\n        return # this is a way to make sure no error.\n    file_text = str(text.get(1.0,END))\n    # file_text = input(\"Enter some text I guess: \") #This is good but can do below if want to enter text via console\n    file.write(file_text)\n    file.close()\n\nwindow = Tk()\nbutton = Button(text=\"save\", command=save_file)\nbutton.pack()\ntext = Text(window)\ntext.pack()\nwindow.mainloop()\n"
      ]
    },
    {
      "cell_type": "markdown",
      "metadata": {},
      "source": [
        "#Lesson 80: Menu Bar\n"
      ]
    },
    {
      "cell_type": "code",
      "execution_count": null,
      "metadata": {},
      "outputs": [],
      "source": [
        "# https://www.youtube.com/watch?v=xiUTqnI6xk8\nfrom tkinter import *\n\ndef open_file():\n    print(\"File has been opened\")\ndef save_file():\n    print(\"File has been saved\")\ndef cut():\n    print(\"You cut some text\")\ndef copy():\n    print(\"You copied some text\")\ndef paste():\n    print(\"You pasted some text\")\n\nwindow = Tk()\n\n#If want to add images\n#open_image = PhotoImage(file='file.png')\n#save_image = PhotoImage(file='save.png')\n#exit_image = PhotoImage(file='exit.png')\n\nmenubar = Menu(window)\nwindow.config(menu=menubar)\n\nfile_menu = Menu(menubar, tearoff=0, font=('MV Boli', 15))\nmenubar.add_cascade(label=\"File\", menu=file_menu)\nfile_menu.add_command(label=\"Open\", command=open_file) #image=open_image, compound='left')\nfile_menu.add_command(label=\"Save\", command=save_file) #image=save_image, compound='left')\nfile_menu.add_separator()\nfile_menu.add_command(label=\"Exit\", command=quit) #image=exit_image, compound='left' )\n\nedit_menu = Menu(menubar, tearoff=0)\nmenubar.add_cascade(label=\"Edit\", menu=edit_menu)\nedit_menu.add_command(label=\"Cut\", command=cut)\nedit_menu.add_command(label=\"Copy\", command=copy)\nedit_menu.add_command(label=\"Paste\", command=paste)\n\nwindow.mainloop()\n"
      ]
    },
    {
      "cell_type": "markdown",
      "metadata": {},
      "source": [
        "#Lesson 81: Frames\n"
      ]
    },
    {
      "cell_type": "code",
      "execution_count": null,
      "metadata": {},
      "outputs": [],
      "source": [
        "# https://www.youtube.com/watch?v=xiUTqnI6xk8\n# frame = a rectangular container to group and hold widgets\n\nfrom tkinter import *\n\nwindow = Tk()\n\n#button = Button(window,text='W', font=('Consolas', 25), width=3)\n#button.pack()\n\nframe = Frame(window, bg='pink', bd=5,relief=RAISED)\n#frame.pack(BOTTOM) #place below this replaces this function.\nframe.place(x=0,y=0)\n\n\nButton(frame,text='W', font=('Consolas', 25), width=3).pack(side=TOP)\nButton(frame,text='A', font=('Consolas', 25), width=3).pack(side=LEFT)\nButton(frame,text='S', font=('Consolas', 25), width=3).pack(side=LEFT)\nButton(frame,text='D', font=('Consolas', 25), width=3).pack(side=LEFT)\n\nwindow.mainloop()\n"
      ]
    },
    {
      "cell_type": "markdown",
      "metadata": {},
      "source": [
        "#Lesson 82: New Window\n"
      ]
    },
    {
      "cell_type": "code",
      "execution_count": null,
      "metadata": {},
      "outputs": [],
      "source": [
        "# https://www.youtube.com/watch?v=xiUTqnI6xk8\n\nfrom tkinter import *\n\ndef window_create():\n    # window_new = Toplevel() #this new window is dependent on main window.\n    window_new = Tk() #this new window is not dependent on main window.\n    window_old.destroy()  # this creates a new window and closes out of old window.\n\nwindow_old = Tk()\n\nButton(window_old,text='create new window', command=window_create).pack()\n\nwindow_old.mainloop()\n"
      ]
    },
    {
      "cell_type": "markdown",
      "metadata": {},
      "source": [
        "#Lesson 83: Window Tabs\n"
      ]
    },
    {
      "cell_type": "code",
      "execution_count": null,
      "metadata": {},
      "outputs": [],
      "source": [
        "# https://www.youtube.com/watch?v=xiUTqnI6xk8\n\nfrom tkinter import *\nfrom tkinter import ttk\n\nwindow = Tk()\n\nnotebook = ttk.Notebook(window)  # widget that managed a collection of windows/displays\n\ntab1=Frame(notebook)  #this will be new frame for tab 1\ntab2=Frame(notebook)\nnotebook.add(tab1, text='Tab 1')\nnotebook.add(tab2, text='Tab 2')\nnotebook.pack(expand=True, fill='both')  #expand = expand to fill any space not used.\n                                            # fill = fill space on x and y axis.\n\nLabel(tab1,text='Hello, this is tab #1', width=50, height=25).pack()\nLabel(tab2,text='Goodbye, this is tab #2', width=50, height=25).pack()\n\nwindow.mainloop()\n"
      ]
    },
    {
      "cell_type": "markdown",
      "metadata": {},
      "source": [
        "#Lesson 84: Grid\n"
      ]
    },
    {
      "cell_type": "code",
      "execution_count": null,
      "metadata": {},
      "outputs": [],
      "source": [
        "# https://www.youtube.com/watch?v=xiUTqnI6xk8\n# grid()= geometry manager that organizes widgets in a table-like structure in a\n\nfrom tkinter import *\n\nwindow = Tk()\n\ntitleLabel = Label(window,text=\"Enter your info\", font=('Arial', 15)).grid(row=0,column=0, columnspan=2)\n\nfirstNameLabel = Label(window,text='First name: ', width=20,bg='red').grid(row=1, column=0)\nfirstNameEntry = Entry(window).grid(row=1, column=1)\n\nlastNameLabel = Label(window,text='Last name: ', bg='green').grid(row=2, column=0)\nlastNameEntry = Entry(window).grid(row=2, column=1)\n\nemailLabel = Label(window,text='email: ', width=30,bg='blue').grid(row=3, column=0)\nemailEntry = Entry(window).grid(row=3, column=1)\n\nsubmitButton = Button(window, text='Submit').grid(row=4, columnspan=2)\n\nwindow.mainloop()\n"
      ]
    },
    {
      "cell_type": "markdown",
      "metadata": {},
      "source": [
        "#Lesson 85: Progress Bar\n"
      ]
    },
    {
      "cell_type": "code",
      "execution_count": null,
      "metadata": {},
      "outputs": [],
      "source": [
        "# https://www.youtube.com/watch?v=xiUTqnI6xk8\nimport time\nfrom tkinter import *\nfrom tkinter.ttk import *\n\ndef start():\n    tasks = 10\n    x= 0\n    while(x<tasks):\n        time.sleep(1)\n        bar['value']+=10\n        x+=1\n        percent.set(str(int((x/tasks)*100))+\"%\")\n        text.set(str(x)+\"/\"+str(tasks)+\" tasks completed\")\n        window.update_idletasks()\n\nwindow = Tk()\n\npercent = StringVar()\ntext = StringVar()\n\nbar = Progressbar(window,orient=HORIZONTAL, length=300)\nbar.pack(pady=10)\n\npercentLabel = Label(window,textvariable=percent).pack()\ntaskLabel = Label(window,textvariable=text).pack()\n\nbutton = Button(window,text='download', command=start).pack()\n\nwindow.mainloop()\n"
      ]
    },
    {
      "cell_type": "markdown",
      "metadata": {},
      "source": [
        "#Lesson 86: Canvas\n"
      ]
    },
    {
      "cell_type": "code",
      "execution_count": null,
      "metadata": {},
      "outputs": [],
      "source": [
        "# https://www.youtube.com/watch?v=xiUTqnI6xk8\n# canvas = widget that is used to draw graphs, plots, images in a window.\n\nfrom tkinter import *\n\nwindow = Tk()\n\ncanvas = Canvas(window, height=500, width=500)\n#blueLine=canvas.create_line(0,0,500,500, fill='blue', width=5)  # can set this to a value\n#redLine=canvas.create_line(0,500,500,0, fill='red', width=5) # notice this is overlaping blue line.\n#canvas.create_rectangle(50,50,250,250, fill='purple')\n#points = 250,0,500,500,0,500\n#canvas.create_polygon(points, fill='yellow', outline='black', width=5)\n#canvas.create_arc(0,0,500,500, fill='green', style=PIESLICE, start=180, extent=180)\n\n#create a pokibal\ncanvas.create_arc(0,0,500,500, fill='red', extent=180, width=10)\ncanvas.create_arc(0,0,500,500, fill='white', extent=180,start=180, width=10)\ncanvas.create_oval(190,190,310,310, fill='white', width=10)\ncanvas.pack()\n\nwindow.mainloop()\n"
      ]
    },
    {
      "cell_type": "markdown",
      "metadata": {},
      "source": [
        "#Lesson 87: Keyboard Events\n"
      ]
    },
    {
      "cell_type": "code",
      "execution_count": null,
      "metadata": {},
      "outputs": [],
      "source": [
        "# https://www.youtube.com/watch?v=xiUTqnI6xk8\n\nfrom tkinter import  *\n\ndef doSomething(event):\n    print(\"You pressed:\" + event.keysym)\n    label.config(text=event.keysym)\n\nwindow = Tk()\n\n# return is enter. Key is any key.\nwindow.bind(\"<Return>\", doSomething)\nwindow.bind(\"<Key>\", doSomething)\n\nlabel = Label(window,font=('Helvetica', 100))\nlabel.pack()\n\nwindow.mainloop()\n"
      ]
    },
    {
      "cell_type": "markdown",
      "metadata": {},
      "source": [
        "#Lesson 88: Mouse Events\n"
      ]
    },
    {
      "cell_type": "code",
      "execution_count": null,
      "metadata": {},
      "outputs": [],
      "source": [
        "# https://www.youtube.com/watch?v=xiUTqnI6xk8\n\nfrom tkinter import *\n\ndef doSomething(event):\n    # this shows where the mouse button was clicked on screen\n    print(\"Mouse coordinates: \"+str(event.x)+\",\"+str(event.y))\n\nwindow = Tk()\n\nwindow.bind('<Button-1>', doSomething)  # left mouse button click\nwindow.bind('<Button-2>', doSomething)  # mouse scroll wheel\nwindow.bind('<Button-3>', doSomething)  # right mouse button click\nwindow.bind('<ButtonRelease>', doSomething)  # shows where the button release happened\nwindow.bind('<Enter>', doSomething)  # enter the window\nwindow.bind('<Leave>', doSomething)  # leave the window\nwindow.bind('<Motion>', doSomething)  # where the mouse moved\n\nwindow.mainloop()\n"
      ]
    },
    {
      "cell_type": "markdown",
      "metadata": {},
      "source": [
        "#Lesson 89: Drag and Drop\n"
      ]
    },
    {
      "cell_type": "code",
      "execution_count": null,
      "metadata": {},
      "outputs": [],
      "source": [
        "# https://www.youtube.com/watch?v=xiUTqnI6xk8\n\nfrom tkinter import *\n\ndef drag_start(event):\n    widget = event.widget\n    widget.startX = event.x\n    widget.startY = event.y\n\ndef drag_motion(event):\n    widget = event.widget\n    x = widget.winfo_x() - widget.startX + event.x\n    y = widget.winfo_y() - widget.startY + event.y\n    widget.place(x=x,y=y)\n\nwindow = Tk()\n\nlabel = Label(window,background='red', width=10, height=5)\nlabel.place(x=0, y=0)\n\nlabel2 = Label(window,background='blue', width=10, height=5)\nlabel2.place(x=100, y=100)\n\nlabel.bind('<Button-1>',drag_start) #(event,function)\nlabel.bind('<B1-Motion>',drag_motion)\n\nlabel2.bind('<Button-1>',drag_start) #(event,function)\nlabel2.bind('<B1-Motion>',drag_motion)\n\nwindow.mainloop()\n"
      ]
    },
    {
      "cell_type": "markdown",
      "metadata": {},
      "source": [
        "#Lesson 90: Move image with keys\n"
      ]
    },
    {
      "cell_type": "code",
      "execution_count": null,
      "metadata": {},
      "outputs": [],
      "source": [
        "# https://www.youtube.com/watch?v=xiUTqnI6xk8\n\nfrom tkinter import *\n\ndef move_up(event):\n    label.place(x=label.winfo_x(), y=label.winfo_y()-10)\ndef move_down(event):\n    label.place(x=label.winfo_x(), y=label.winfo_y()+10)\ndef move_left(event):\n    label.place(x=label.winfo_x()-10, y=label.winfo_y())\ndef move_right(event):\n    label.place(x=label.winfo_x()+10, y=label.winfo_y())\n\nwindow = Tk()\nwindow.geometry(\"500x500\")\n\nwindow.bind('<w>', move_up)\nwindow.bind('<s>', move_down)\nwindow.bind('<a>', move_left)\nwindow.bind('<d>', move_right)\n\nmyimage = PhotoImage(file='racecar.png')\nlabel = Label(window,image=myimage)\nlabel.place(x=0,y=0)\n\nwindow.mainloop()\n"
      ]
    },
    {
      "cell_type": "markdown",
      "metadata": {},
      "source": [
        "#Lesson 91: Animations\n"
      ]
    },
    {
      "cell_type": "code",
      "execution_count": null,
      "metadata": {},
      "outputs": [],
      "source": [
        "# https://www.youtube.com/watch?v=xiUTqnI6xk8\nfrom tkinter import *\nimport time\n\nWIDTH = 500     #make it upercase to show that it is constant (naming convention)\nHEIGHT = 500\nx_velocity = 3\ny_velocity = 2\n\nwindow = Tk()\n\ncanvas = Canvas(window, width=WIDTH, height=HEIGHT)\ncanvas.pack()\n#if want background photo. do this first so photo is in background\n#background_image = PhotoImage(file='person.PNG')\n#background = canvas.create_image(0,0,image=background_image,anchor = NW)\n\nphoto_image = PhotoImage(file='person.PNG')\nmy_image = canvas.create_image(0,0,image=photo_image,anchor = NW)\n\nimage_width = photo_image.width()\nimage_height = photo_image.height()\n\nwhile True:\n    coordinates = canvas.coords(my_image)\n    print(coordinates) # useful for learning purposes\n    if(coordinates[0]>=(WIDTH-image_width) or coordinates[0]<0):\n        x_velocity = -x_velocity #this inverts direction\n    if (coordinates[1] >=(HEIGHT - image_height) or coordinates[1] < 0):\n        y_velocity = -y_velocity  # this inverts direction\n    canvas.move(my_image,x_velocity,0)\n    window.update()\n    time.sleep(0.01)\n\nwindow.mainloop()\n"
      ]
    },
    {
      "cell_type": "markdown",
      "metadata": {},
      "source": [
        "#Lesson 92: Multiple Animations\n"
      ]
    },
    {
      "cell_type": "code",
      "execution_count": null,
      "metadata": {},
      "outputs": [],
      "source": [
        "# https://www.youtube.com/watch?v=xiUTqnI6xk8\n\nfrom tkinter import *\nfrom Ball import *   #or Ball\nimport time\n\nwindow = Tk()\nWIDTH = 500\nHEIGHT = 500\n\ncanvas = Canvas(window, width=WIDTH, height=HEIGHT)\ncanvas.pack()\n\nvolley_ball = Ball(canvas, 0,0,100,1,1,\"white\")\ntennis_ball = Ball(canvas, 0,0,50,4,3,\"yellow\")\nbasket_ball = Ball(canvas, 0,0,125,8,7,\"orange\")\n\nwhile True:\n    volley_ball.move()\n    tennis_ball.move()\n    basket_ball.move()\n    window.update()\n    time.sleep(0.02)\n\nwindow.mainloop()\n"
      ]
    },
    {
      "cell_type": "markdown",
      "metadata": {},
      "source": [
        "#Lesson 93: Clock Program\n"
      ]
    },
    {
      "cell_type": "code",
      "execution_count": null,
      "metadata": {},
      "outputs": [],
      "source": [
        "# https://www.youtube.com/watch?v=xiUTqnI6xk8\n\nfrom tkinter import *\nfrom time import *\n\ndef update():\n    time_string = strftime(\"%I:%M:%S %p\")\n    time_label.config(text=time_string)\n\n    day_time_string = strftime(\"%A\")\n    day_time_label.config(text=day_time_string)\n\n    date_time_string = strftime(\"%B %d, %Y\")\n    date_time_label.config(text=date_time_string)\n\n    window.after(1000,update)   #this is 1000 miliseconds. this is also recurisve as update is called.\n\nwindow = Tk()\n\ntime_label = Label(window, font=(\"Arial\", 50), fg=\"blue\", bg=\"black\")\ntime_label.pack()\n\nday_time_label = Label(window, font=(\"Inke Free\", 25))\nday_time_label.pack()\n\ndate_time_label = Label(window, font=(\"Inke Free\", 50))\ndate_time_label.pack()\n\n\nupdate()\n\nwindow.mainloop()\n"
      ]
    },
    {
      "cell_type": "markdown",
      "metadata": {},
      "source": [
        "#Lesson 94: Send an email\n"
      ]
    },
    {
      "cell_type": "code",
      "execution_count": null,
      "metadata": {},
      "outputs": [],
      "source": [
        "# https://www.youtube.com/watch?v=xiUTqnI6xk8\n\nimport smtplib\n\nsend = 'sender@gmail.com'  #use own email\nreceiver = 'receiver@gmail.com'\npassword = 'password123'\nsubject = 'python email test'\nbody = 'I wrote an email'\n\nmessage = f\"\"\"From: Python test{sender}\nTo: Receiver{receiver}\nSubject: {subject}\\n\n{body}\n\"\"\"\nserver = smtplib.SMTP(\"smtp.gmail.com\", 587)  #587 is default mail submission port.\nserver.starttls()\n\ntry:\n    server.login(sender, password)\n    print(\"Logged in...\")\n    server.sendmail(sender, receiver, message)\n    print(\"Email has been sent!\")\n    #may ecounter SMTPAuthenticationError. this means username and password were not accepted OR\n    # need to turn on less secure on gmail.\nexcept smtplib.SMTPAuthenticationError:\n    print('Unable to sign in')\n"
      ]
    },
    {
      "cell_type": "markdown",
      "metadata": {},
      "source": [
        "#Lesson 95: Run with command prompt\n"
      ]
    },
    {
      "cell_type": "code",
      "execution_count": null,
      "metadata": {},
      "outputs": [],
      "source": [
        "# https://www.youtube.com/watch?v=xiUTqnI6xk8\n\n# ******************\n# run .py file with cmd\n# save file as .py (Python file)\n# go to command prompt\n# navigate to directory with your file: C:\\Users\\WilliamBillCorkery\\PycharmProjects\\BroCode-PythonFullCourse\n# invole python interpreter + script: python \"95-Run with command prompt.py\"\n\nprint(\"Hello World!\")\n\nname = input('What is your name?:  ')\nprint(\"Hello \"+name)\n"
      ]
    },
    {
      "cell_type": "markdown",
      "metadata": {},
      "source": [
        "#Lesson 96: Pip\n"
      ]
    },
    {
      "cell_type": "code",
      "execution_count": null,
      "metadata": {},
      "outputs": [],
      "source": [
        "# https://www.youtube.com/watch?v=xiUTqnI6xk8\n\n# ************************************\n# Python pip\n# ************************************\n# pip = package manager for packages and modules from Python Package index\n# Python package index is pypi.org. full list of packages.\n#\n# included for Python versions 3.4+\n# open command prompt\n#   help:                       pip\n#   check:                      pip --version\n#   update:                     pip install --upgrade pip\n#   installed packages:         pip list\n#   check outdated packages:    pip list --outdated\n#   install a package:          pip install \"package name\"\n\n#chceked status of packages.\n"
      ]
    },
    {
      "cell_type": "markdown",
      "metadata": {},
      "source": [
        "#Lesson 97: Py to exe\n"
      ]
    },
    {
      "cell_type": "code",
      "execution_count": null,
      "metadata": {},
      "outputs": [],
      "source": [
        "# https://www.youtube.com/watch?v=xiUTqnI6xk8\n# windows defender may preent you from running\n# make sure pip and pyinstaller are installed/updated\n\n# to to cmd. Need to change directory of command prompt so that it points to file\n# cd to directory that contains your .py file\n# pyinstaller -F -x -i icon.ico\n# -F is all in 1 file\n# -w removed terminal window\n# -i icon.ico adds custom icon to .exe\n# clock.py name of your main python file\n# .exe is located in the dist folder.\n# can change image to ICO at icoconvert.com. move it to folder.\n\n# clock program succesfully made and is in dist file.\n"
      ]
    },
    {
      "cell_type": "markdown",
      "metadata": {},
      "source": [
        "#Lesson 98: calculator Program\n"
      ]
    },
    {
      "cell_type": "code",
      "execution_count": null,
      "metadata": {},
      "outputs": [],
      "source": [
        "# https://www.youtube.com/watch?v=xiUTqnI6xk8\n\nfrom tkinter import *\n\ndef button_press(num):\n    global equation_text\n    equation_text = equation_text + str(num)\n    equation_label.set(equation_text)\n\ndef equals():\n    global equation_text\n    try:\n        total = str(eval(equation_text))\n        equation_label.set(total)\n        equation_text = total\n    except SyntaxError:\n        equation_label.set(\"syntax error\")\n        equation_text = \"\"\n    except ZeroDivisionError:\n        equation_label.set(\"arithmetic error\")\n        equation_text = \"\"\n\ndef clear():\n    global equation_text\n    equation_label.set(\"\")\n    equation_text = \"\"\n\nwindow = Tk()\nwindow.title(\"Calculator Program\")\nwindow.geometry('500x500')\n\nequation_text = \"\"\n\nequation_label = StringVar()\n\nlabel = Label(window,textvariable=equation_label, font=('consolas', 20),\n              bg='white', width=24, height=2)\nlabel.pack()\n\nframe = Frame(window)\nframe.pack()\n\nbutton1 = Button(frame, text=1, height=4, width=9, font=35,\n                 command=lambda: button_press(1))\nbutton1.grid(row=0, column=0)\n\nbutton2 = Button(frame, text=2, height=4, width=9, font=35,\n                 command=lambda: button_press(2))\nbutton2.grid(row=0, column=1)\n\nbutton3 = Button(frame, text=3, height=4, width=9, font=35,\n                 command=lambda: button_press(3))\nbutton3.grid(row=0, column=2)\n\nbutton4 = Button(frame, text=4, height=4, width=9, font=35,\n                 command=lambda: button_press(4))\nbutton4.grid(row=1, column=0)\n\nbutton5 = Button(frame, text=5, height=4, width=9, font=35,\n                 command=lambda: button_press(5))\nbutton5.grid(row=1, column=1)\n\nbutton6 = Button(frame, text=6, height=4, width=9, font=35,\n                 command=lambda: button_press(6))\nbutton6.grid(row=1, column=2)\n\nbutton7 = Button(frame, text=7, height=4, width=9, font=35,\n                 command=lambda: button_press(7))\nbutton7.grid(row=2, column=0)\n\nbutton8 = Button(frame, text=8, height=4, width=9, font=35,\n                 command=lambda: button_press(8))\nbutton8.grid(row=2, column=1)\n\nbutton9 = Button(frame, text=9, height=4, width=9, font=35,\n                 command=lambda: button_press(9))\nbutton9.grid(row=2, column=2)\n\nbutton0 = Button(frame, text=0, height=4, width=9, font=35,\n                 command=lambda: button_press(0))\nbutton0.grid(row=3, column=0)\n\nplus = Button(frame, text='+', height=4, width=9, font=35,\n                 command=lambda: button_press('+'))\nplus.grid(row=0, column=3)\n\nminus = Button(frame, text='-', height=4, width=9, font=35,\n                 command=lambda: button_press('-'))\nminus.grid(row=1, column=3)\n\nmultiply = Button(frame, text='*', height=4, width=9, font=35,\n                 command=lambda: button_press('*'))\nmultiply.grid(row=2, column=3)\n\ndivide = Button(frame, text='/', height=4, width=9, font=35,\n                 command=lambda: button_press('/'))\ndivide.grid(row=3, column=3)\n\nequal = Button(frame, text='=', height=4, width=9, font=35,\n                 command=equals)\nequal.grid(row=3, column=2)\n\ndecimal = Button(frame, text='.', height=4, width=9, font=35,\n                 command=lambda: button_press('.'))\ndecimal.grid(row=3, column=1)\n\nclear = Button(window, text='clear', height=4, width=12, font=35,\n               command=clear)\nclear.pack()\n\nwindow.mainloop()\n"
      ]
    },
    {
      "cell_type": "markdown",
      "metadata": {},
      "source": [
        "#Lesson 99: Text Editor Program\n"
      ]
    },
    {
      "cell_type": "code",
      "execution_count": null,
      "metadata": {},
      "outputs": [],
      "source": [
        "# https://www.youtube.com/watch?v=xiUTqnI6xk8\n\nimport os\nfrom tkinter import *\nfrom tkinter import filedialog, colorchooser, font\nfrom tkinter.messagebox import *\nfrom tkinter.filedialog import *\n\ndef change_color():\n    color = colorchooser.askcolor(title=\"pick a color\")\n    text_area.config(fg=color[1])\n\ndef change_font(*args):\n    text_area.config(font=(font_name.get(), size_box.get()))\n\ndef new_file():\n    window.title(\"Untitled\")\n    text_area.delete(1.0,END)\n\n\n# This original code below did not work. Error was \"_tkinter.TclError: bad option \"-file\": must be -defaultextension, -filetypes, -initialdir, \n    # file = askopenfilename(defaultextension=\".txt\",file=[(\"All Files\", \"*.*\"),(\"Text Documents\", \"*.txt\")])\n#replaced with this. Using this website. https://stackoverflow.com/questions/51071984/tkinter-askopenfilename-wont-open\n    # file = filedialog.askopenfilename(title=\"Open Filename\",filetypes=((\"TXT Files\",\"*.txt\"),(\"All Files\",\"*.*\")))\n\ndef open_file():\n    file = filedialog.askopenfilename(title=\"Open Filename\",filetypes=((\"TXT Files\",\"*.txt\"),(\"All Files\",\"*.*\")))\n\n    if file is None:\n        return\n    else:\n        try:\n            window.title(os.path.basename(file))\n            text_area.delete(1.0, END)\n        \n            file = open(file, \"r\")\n        \n            text_area.insert(1.0,file.read())\n        # better to name specific exceptions\n        except Exception:\n            print(\"Could not read file\")\n        finally: \n            file.close() \n\ndef save_file():\n    file = filedialog.asksaveasfilename(initialfile= \"untitled.txt\", defaultextension=\".txt\", \n                                        filetypes=[(\"All Files\", \"*.*\"), \n                                                   (\"Text Document\", \"*.txt\")])\n\n    if file is None:\n        return\n    else:\n        try:\n            window.title(os.path.basename(file))\n            file = open(file, \"w\")\n            file.write(text_area.get(1.0, END))\n        except Exception:\n            print(\"Could not save file\")\n        finally:\n            file.close()\n\ndef cut():\n    text_area.event_generate(\"<<Cut>>\")\n\ndef copy():\n    text_area.event_generate(\"<<Copy>>\")\n\ndef paste():\n    text_area.event_generate(\"<<Paste>>\")\n\ndef about():\n    showinfo(\"About this program\", \"This is a program written by Billy!!!\")\n\ndef quit():\n    window.destroy()\n\nwindow = Tk()\nwindow.title(\"Text Editor Program\")\nfile = None\n\nwindow_width = 500\nwindow_height = 500\nscreen_width = window.winfo_screenwidth()\nscreen_height = window.winfo_screenheight()\n\nx = int((screen_width/2)-(window_width/2))\ny = int((screen_height/2)-(window_height/2))\n\nwindow.geometry(\"{}x{}+{}+{}\".format(window_width, window_height, x, y))\n\nfont_name = StringVar(window)\nfont_name.set(\"Arial\")\n\nfont_size = StringVar(window)\nfont_size.set(\"25\")\n\ntext_area = Text(window,font=(font_name.get(), font_size.get()))\n\nscroll_bar = Scrollbar(text_area)\nwindow.grid_rowconfigure(0,weight=1)\nwindow.grid_columnconfigure(0,weight=1)\ntext_area.grid(sticky=N + E + S + W)\nscroll_bar.pack(side=RIGHT, fill=Y)\ntext_area.config(yscrollcommand=scroll_bar.set)\n\nframe = Frame(window)\nframe.grid()\n\ncolor_button = Button(frame, text = \"color\", command=change_color)\ncolor_button.grid(row=0, column=0)\n\nfont_box = OptionMenu(frame,font_name, *font.families(), command=change_font)\nfont_box.grid(row=0, column=1)\n\nsize_box = Spinbox(frame, from_=1,to=100, textvariable=font_size, command=change_font)\nsize_box.grid(row=0, column=2)\n\nmenu_bar = Menu(window)\nwindow.config(menu = menu_bar)\n\nfile_menu = Menu(menu_bar, tearoff=0)\nmenu_bar.add_cascade(label = \"File\", menu=file_menu)\nfile_menu.add_command(label = \"New\", command = new_file)\nfile_menu.add_command(label = \"Open\", command = open_file)\nfile_menu.add_command(label = \"Save\", command = save_file)\nfile_menu.add_separator()\nfile_menu.add_command(label = \"Exit\", command = quit)\n\nedit_menu = Menu(menu_bar, tearoff = 0)\nmenu_bar.add_cascade(label = \"Edit\", menu=edit_menu)\nedit_menu.add_command(label=\"Cut\", command=cut)\nedit_menu.add_command(label=\"Copy\", command=copy)\nedit_menu.add_command(label=\"Paste\", command=paste)\n\nhelp_menu = Menu(menu_bar, tearoff=0)\nmenu_bar.add_cascade(label = \"Help\", menu=help_menu)\nhelp_menu.add_command(label=\"About\", command=about)\n\n\n\nwindow.mainloop()\n"
      ]
    },
    {
      "cell_type": "markdown",
      "metadata": {},
      "source": [
        "#Lesson 100: Tic Tac Tow Game\n"
      ]
    },
    {
      "cell_type": "code",
      "execution_count": null,
      "metadata": {},
      "outputs": [],
      "source": [
        "# https://www.youtube.com/watch?v=xiUTqnI6xk8\n\nfrom tkinter import *\nimport random\n\ndef next_turn(row, column):\n    global player\n    if buttons[row][column]['text'] == \"\" and check_winner() is False:\n        if player == players[0]:\n            buttons[row][column]['text'] = player\n            if check_winner() is False:\n                player = players[1]\n                label.config(text = (players[1]+\" turn\"))\n            elif check_winner() is True:\n                label.config(text = (players[0]+ \" wins\"))\n            elif check_winner() == \"Tie\":\n                label.config(text =(\"Tie!\"))\n        else:\n            buttons[row][column]['text'] = player\n            if check_winner() is False:\n                player = players[0]\n                label.config(text = (players[0]+\" turn\"))\n            elif check_winner() is True:\n                label.config(text = (players[1]+ \" wins\"))\n            elif check_winner() == 'Tie':\n                label.config(text =(\"Tie!\"))\n\ndef check_winner():\n    #need to check all horizontal win conditions with for loop\n    for row in range(3):\n        if buttons[row][0]['text'] == buttons[row][1]['text']== buttons[row][2]['text'] != \"\": \n            buttons[row][0].config(bg=\"green\")\n            buttons[row][1].config(bg=\"green\")\n            buttons[row][2].config(bg=\"green\")\n            return True\n    for column in range(3):\n        if buttons[0][column]['text'] == buttons[1][column]['text']== buttons[2][column]['text'] != \"\": \n            buttons[0][column].config(bg=\"green\")\n            buttons[1][column].config(bg=\"green\")\n            buttons[2][column].config(bg=\"green\")\n            return True\n    if buttons[0][0]['text'] == buttons[1][1]['text'] == buttons[2][2]['text'] != \"\":\n        buttons[0][0].config(bg=\"green\")\n        buttons[1][1].config(bg=\"green\")\n        buttons[2][2].config(bg=\"green\")\n        return True\n    elif buttons[0][2]['text'] == buttons[1][1]['text'] == buttons[2][0]['text'] != \"\":\n        buttons[0][2].config(bg=\"green\")\n        buttons[1][1].config(bg=\"green\")\n        buttons[2][0].config(bg=\"green\")\n        return True\n    elif empty_spaces() is False:\n        for row in range(3):\n            for column in range(3):\n                buttons[row][column].config(bg=\"yellow\")\n        return \"Tie\"\n    else:\n        return False\n    \ndef empty_spaces():\n    spaces = 9\n    for row in range(3):\n        for column in range(3):\n            if buttons[row][column]['text'] != \"\":\n                spaces -=1\n    if spaces == 0:\n        return False\n    else:\n        return True\n\ndef new_game():\n    global player\n    player = random.choice(players)\n    label.config(text=player+\" turn\")\n    for row in range(3):\n        for column in range(3):\n            buttons[row][column].config(text=\"\", bg=\"#F0F0F0\")\n\nwindow = Tk()\nwindow.title(\"Tic-Tac-Toe\")\nplayers = [\"x\", \"o\"] #this can be changed if want. \nplayer = random.choice(players)\nbuttons = [[0,0,0], [0,0,0], [0,0,0]]\n\nlabel = Label(text=player + \" turn\", font=(\"consolas\",40))\nlabel.pack(side=\"top\")\n\nreset_button = Button(text=\"restart\", font=(\"consolas\",20), command=new_game)\nreset_button.pack(side=\"top\")\n\nframe = Frame(window)\nframe.pack()\n\n#nested for loop. 3 row and 3 column matrix. \nfor row in range(3):\n    for column in range (3):\n        buttons[row][column] = Button(frame, text=\"\", \n                                      font=(\"consolas\",40),\n                                      width = 2, height=2, \n                                      command = lambda row = row, column = column: next_turn(row, column))\n        buttons[row][column].grid(row=row, column=column)\n\n\nwindow.mainloop()\n"
      ]
    },
    {
      "cell_type": "markdown",
      "metadata": {},
      "source": [
        "#Lesson 101: Snake Game\n"
      ]
    },
    {
      "cell_type": "code",
      "execution_count": null,
      "metadata": {},
      "outputs": [],
      "source": [
        "# https://www.youtube.com/watch?v=xiUTqnI6xk8\n\nfrom tkinter import *\nimport random\n\n# best practices to place contants at top. \n# python no constants but placing here for convenince. \n# name convention for constant is uper case. \nGAME_WIDTH = 1000\nGAME_HEIGHT = 600\nSPEED = 200\nSPACE_SIZE = 50\nBODY_PARTS = 3\nSNAKE_COLOR = \"#00FF00\" #green\nFOOD_COLOR = \"#FF0000\" #red\nBACKGROUND_COLOR = \"#FFFFFF\" #black\n\nclass Snake:\n    def __init__(self):\n        self.body_size = BODY_PARTS\n        self.coordinates = []\n        self.squares = []\n        \n        for i in range(0,BODY_PARTS):\n            self.coordinates.append([0,0])\n        for x, y in self.coordinates:\n            square = canvas.create_rectangle(x,y,x+SPACE_SIZE, y+SPACE_SIZE, fill=SNAKE_COLOR, tag=\"snake\")\n            self.squares.append(square)\n\n\nclass Food:\n    def __init__(self):\n        x = random.randint(0, (GAME_WIDTH/SPACE_SIZE)-1) * SPACE_SIZE\n        y = random.randint(0, (GAME_HEIGHT/SPACE_SIZE)-1) * SPACE_SIZE\n        self.coordinates = [x,y]\n        canvas.create_oval(x,y,x+ SPACE_SIZE, y +SPACE_SIZE, fill=FOOD_COLOR, tag=\"food\")\n\ndef next_turn(snake, food):\n    x,y = snake.coordinates[0]\n    if direction == \"up\":\n        y -= SPACE_SIZE\n    elif direction == \"down\":\n        y +=SPACE_SIZE\n    elif direction == \"left\":\n        x-=SPACE_SIZE\n    elif direction == \"right\":\n        x += SPACE_SIZE\n\n    snake.coordinates.insert(0,(x,y))\n    square = canvas.create_rectangle(x,y,x+SPACE_SIZE, y+SPACE_SIZE, fill=SNAKE_COLOR)\n    snake.squares.insert(0,square)\n    \n    if x == food.coordinates[0] and y == food.coordinates[1]:\n        global score\n        score += 1\n        label.config(text=\"Score:{}\".format(score))\n        canvas.delete('food')\n        food = Food()\n    \n    else: \n        del snake.coordinates[-1]\n        canvas.delete(snake.squares[-1])\n        del snake.squares[-1]\n    \n    if check_collisions(snake):\n        game_over()\n    else:\n        window.after(SPEED, next_turn, snake, food)\n\ndef change_direction(new_direction):\n    global direction\n    if new_direction == 'left':\n        if direction!= 'right':\n            direction = new_direction\n    elif new_direction == 'right':\n        if direction!= 'left':\n            direction = new_direction\n    elif new_direction == 'up':\n        if direction!= 'down':\n            direction = new_direction            \n    elif new_direction == 'down':\n        if direction!= 'up':\n            direction = new_direction\n\ndef check_collisions(snake):\n    x,y, = snake.coordinates[0]\n    if x < 0 or x>= GAME_WIDTH:\n        return True\n    elif y < 0 or y>= GAME_HEIGHT:\n        return True\n    for body_part in snake.coordinates[1:]:\n        if x == body_part[0] and y == body_part[1]:\n            print(\"Game over\")\n            return True\n    return False\n    \ndef game_over():\n    canvas.delete(ALL)\n    canvas.create_text(canvas.winfo_width()/2, \n                       canvas.winfo_height()/2, \n                       font = ('consolas',70), \n                       text=\"GAME OVER!\", \n                       fill=\"red\",\n                       tag=\"gameover\")         \n\nwindow = Tk()\nwindow.title(\"Snake Game\")\nwindow.resizable(False,False)\n\nscore = 0\ndirection = \"down\"\n\nlabel = Label(window,text = \"Score:{}\".format(score), font = ('consolas', 40))\nlabel.pack()\n\ncanvas = Canvas(window, bg=BACKGROUND_COLOR, height = GAME_HEIGHT, width = GAME_WIDTH)\ncanvas.pack()\n\nwindow.update()\nwindow_width = window.winfo_width()\nwindow_height = window.winfo_height()\nscreen_width = window.winfo_screenwidth()\nscreen_height = window.winfo_screenheight()\n\nx = int((screen_width/2) - (window_width/2))\ny = int((screen_height/2) - (window_height/2))\n\nwindow.geometry(f\"{window_width}x{window_height}+{x}+{y}\")\nwindow.bind('<Left>', lambda event: change_direction('left'))\nwindow.bind('<Right>', lambda event: change_direction('right'))\nwindow.bind('<Up>', lambda event: change_direction('up'))\nwindow.bind('<Down>', lambda event: change_direction('down'))\n\n\nsnake = Snake()\nfood = Food()\n\nnext_turn(snake, food)\n\nwindow.mainloop()\n"
      ]
    }
  ],
  "metadata": {
    "kernelspec": {
      "display_name": "Python 3",
      "language": "python",
      "name": "python3"
    },
    "language_info": {
      "codemirror_mode": {
        "name": "ipython",
        "version": 3
      },
      "file_extension": ".py",
      "mimetype": "text/x-python",
      "name": "python",
      "nbconvert_exporter": "python",
      "pygments_lexer": "ipython3",
      "version": "3.8.0"
    }
  },
  "nbformat": 4,
  "nbformat_minor": 4
}